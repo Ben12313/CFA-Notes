{
 "cells": [
  {
   "cell_type": "markdown",
   "metadata": {
    "toc": true
   },
   "source": [
    "<h1>Table of Contents<span class=\"tocSkip\"></span></h1>\n",
    "<div class=\"toc\"><ul class=\"toc-item\"><li><span><a href=\"#CFA-Level-III-Note\" data-toc-modified-id=\"CFA-Level-III-Note-1\">CFA Level III Note</a></span><ul class=\"toc-item\"><li><span><a href=\"#Los-Command\" data-toc-modified-id=\"Los-Command-1.1\">Los Command</a></span></li><li><span><a href=\"#2020-level-III--studysessions-combined\" data-toc-modified-id=\"2020-level-III--studysessions-combined-1.2\">2020-level III -studysessions-combined</a></span></li></ul></li><li><span><a href=\"#0-Key-Topics-重点\" data-toc-modified-id=\"0-Key-Topics-重点-2\">0 Key Topics 重点</a></span><ul class=\"toc-item\"><li><span><a href=\"#0.1-Behavioral-Finance\" data-toc-modified-id=\"0.1-Behavioral-Finance-2.1\">0.1 Behavioral Finance</a></span></li><li><span><a href=\"#0.2-Individual-Investor\" data-toc-modified-id=\"0.2-Individual-Investor-2.2\">0.2 Individual Investor</a></span></li><li><span><a href=\"#0.3-Institutional-Investors\" data-toc-modified-id=\"0.3-Institutional-Investors-2.3\">0.3 Institutional Investors</a></span></li><li><span><a href=\"#0.4-Capital-Market-Expectation\" data-toc-modified-id=\"0.4-Capital-Market-Expectation-2.4\">0.4 Capital Market Expectation</a></span></li><li><span><a href=\"#0.5-Equity-Market-Valuation\" data-toc-modified-id=\"0.5-Equity-Market-Valuation-2.5\">0.5 Equity Market Valuation</a></span></li><li><span><a href=\"#0.6-Asset-Allocation\" data-toc-modified-id=\"0.6-Asset-Allocation-2.6\">0.6 Asset Allocation</a></span></li><li><span><a href=\"#0.7-Fixed-Income\" data-toc-modified-id=\"0.7-Fixed-Income-2.7\">0.7 Fixed-Income</a></span></li><li><span><a href=\"#0.8-Equity-Portfolio-Management\" data-toc-modified-id=\"0.8-Equity-Portfolio-Management-2.8\">0.8 Equity Portfolio Management</a></span></li><li><span><a href=\"#0.9-Alternative-Investment\" data-toc-modified-id=\"0.9-Alternative-Investment-2.9\">0.9 Alternative Investment</a></span></li><li><span><a href=\"#0.10-Risk-Management\" data-toc-modified-id=\"0.10-Risk-Management-2.10\">0.10 Risk Management</a></span></li><li><span><a href=\"#0.11-Execution,-Rebalance-and-Evaluation\" data-toc-modified-id=\"0.11-Execution,-Rebalance-and-Evaluation-2.11\">0.11 Execution, Rebalance and Evaluation</a></span></li></ul></li><li><span><a href=\"#1-All-Topics-Summary-2020\" data-toc-modified-id=\"1-All-Topics-Summary-2020-3\">1 All Topics Summary 2020</a></span><ul class=\"toc-item\"><li><span><a href=\"#1.1-Ethical-and-Professional-Standards-**\" data-toc-modified-id=\"1.1-Ethical-and-Professional-Standards-**-3.1\">1.1 Ethical and Professional Standards **</a></span><ul class=\"toc-item\"><li><span><a href=\"#Book-1\" data-toc-modified-id=\"Book-1-3.1.1\">Book 1</a></span></li></ul></li><li><span><a href=\"#1.2-Behavioral-Finance\" data-toc-modified-id=\"1.2-Behavioral-Finance-3.2\">1.2 Behavioral Finance</a></span><ul class=\"toc-item\"><li><span><a href=\"#Book-1\" data-toc-modified-id=\"Book-1-3.2.1\">Book 1</a></span></li></ul></li><li><span><a href=\"#1.3-Capital-Market-Expectations\" data-toc-modified-id=\"1.3-Capital-Market-Expectations-3.3\">1.3 Capital Market Expectations</a></span><ul class=\"toc-item\"><li><span><a href=\"#Book-2\" data-toc-modified-id=\"Book-2-3.3.1\">Book 2</a></span></li></ul></li><li><span><a href=\"#1.4-Asset-Allocation-and-Related-Decisions-in-Portfolio-Management\" data-toc-modified-id=\"1.4-Asset-Allocation-and-Related-Decisions-in-Portfolio-Management-3.4\">1.4 Asset Allocation and Related Decisions in Portfolio Management</a></span><ul class=\"toc-item\"><li><span><a href=\"#Book-2\" data-toc-modified-id=\"Book-2-3.4.1\">Book 2</a></span></li></ul></li><li><span><a href=\"#1.5-Derivatives-and-Currency-Management\" data-toc-modified-id=\"1.5-Derivatives-and-Currency-Management-3.5\">1.5 Derivatives and Currency Management</a></span><ul class=\"toc-item\"><li><span><a href=\"#Book-2\" data-toc-modified-id=\"Book-2-3.5.1\">Book 2</a></span></li></ul></li><li><span><a href=\"#1.6-Fixed-Income-Portfolio-Management-**\" data-toc-modified-id=\"1.6-Fixed-Income-Portfolio-Management-**-3.6\">1.6 Fixed-Income Portfolio Management **</a></span><ul class=\"toc-item\"><li><span><a href=\"#Book-3\" data-toc-modified-id=\"Book-3-3.6.1\">Book 3</a></span></li></ul></li><li><span><a href=\"#1.7-Equity-Portfolio-Management-**\" data-toc-modified-id=\"1.7-Equity-Portfolio-Management-**-3.7\">1.7 Equity Portfolio Management **</a></span><ul class=\"toc-item\"><li><span><a href=\"#Book-3\" data-toc-modified-id=\"Book-3-3.7.1\">Book 3</a></span></li></ul></li><li><span><a href=\"#1.8-Alternative-Investments-for-Portfolio-Management\" data-toc-modified-id=\"1.8-Alternative-Investments-for-Portfolio-Management-3.8\">1.8 Alternative Investments for Portfolio Management</a></span><ul class=\"toc-item\"><li><span><a href=\"#Book-4\" data-toc-modified-id=\"Book-4-3.8.1\">Book 4</a></span></li></ul></li><li><span><a href=\"#1.9-Private-Wealth-Management-**\" data-toc-modified-id=\"1.9-Private-Wealth-Management-**-3.9\">1.9 Private Wealth Management **</a></span><ul class=\"toc-item\"><li><span><a href=\"#Book-4\" data-toc-modified-id=\"Book-4-3.9.1\">Book 4</a></span></li></ul></li><li><span><a href=\"#1.10-Portfolio-Management-for-Institutional-Investors\" data-toc-modified-id=\"1.10-Portfolio-Management-for-Institutional-Investors-3.10\">1.10 Portfolio Management for Institutional Investors</a></span></li><li><span><a href=\"#1.11-Trading,-Performance-Evaluation,-and-Manager-Selection\" data-toc-modified-id=\"1.11-Trading,-Performance-Evaluation,-and-Manager-Selection-3.11\">1.11 Trading, Performance Evaluation, and Manager Selection</a></span></li><li><span><a href=\"#1.12-Cases-in-Portfolio-Management-and-Risk-Management\" data-toc-modified-id=\"1.12-Cases-in-Portfolio-Management-and-Risk-Management-3.12\">1.12 Cases in Portfolio Management and Risk Management</a></span></li></ul></li><li><span><a href=\"#1.1-Ethical-and-Professional-Standards-**\" data-toc-modified-id=\"1.1-Ethical-and-Professional-Standards-**-4\">1.1 Ethical and Professional Standards **</a></span><ul class=\"toc-item\"><li><span><a href=\"#To-be-added\" data-toc-modified-id=\"To-be-added-4.1\">To be added</a></span><ul class=\"toc-item\"><li><span><a href=\"#To-be-added\" data-toc-modified-id=\"To-be-added-4.1.1\">To be added</a></span></li></ul></li></ul></li><li><span><a href=\"#1.2-Behavioral-Finance\" data-toc-modified-id=\"1.2-Behavioral-Finance-5\">1.2 Behavioral Finance</a></span><ul class=\"toc-item\"><li><span><a href=\"#To-be-added\" data-toc-modified-id=\"To-be-added-5.1\">To be added</a></span><ul class=\"toc-item\"><li><span><a href=\"#To-be-added\" data-toc-modified-id=\"To-be-added-5.1.1\">To be added</a></span></li></ul></li></ul></li><li><span><a href=\"#1.3-Capital-Market-Expectations\" data-toc-modified-id=\"1.3-Capital-Market-Expectations-6\">1.3 Capital Market Expectations</a></span></li><li><span><a href=\"#1.4-Asset-Allocation-and-Related-Decisions-in-Portfolio-Management\" data-toc-modified-id=\"1.4-Asset-Allocation-and-Related-Decisions-in-Portfolio-Management-7\">1.4 Asset Allocation and Related Decisions in Portfolio Management</a></span></li><li><span><a href=\"#1.5-Derivatives-and-Currency-Management\" data-toc-modified-id=\"1.5-Derivatives-and-Currency-Management-8\">1.5 Derivatives and Currency Management</a></span><ul class=\"toc-item\"><li><ul class=\"toc-item\"><li><span><a href=\"#sdadas\" data-toc-modified-id=\"sdadas-8.0.1\">sdadas</a></span></li></ul></li></ul></li><li><span><a href=\"#1.6-Fixed-Income-Portfolio-Management-**\" data-toc-modified-id=\"1.6-Fixed-Income-Portfolio-Management-**-9\">1.6 Fixed-Income Portfolio Management **</a></span><ul class=\"toc-item\"><li><span><a href=\"#1.6.1-READING-18:-OVERVIEW-OF-FIXEDINCOME-PORTFOLIO-MANAGEMENT\" data-toc-modified-id=\"1.6.1-READING-18:-OVERVIEW-OF-FIXEDINCOME-PORTFOLIO-MANAGEMENT-9.1\">1.6.1 READING 18: OVERVIEW OF FIXEDINCOME PORTFOLIO MANAGEMENT</a></span><ul class=\"toc-item\"><li><span><a href=\"#1.6.1.1-FIXED-INCOME-MANDATES\" data-toc-modified-id=\"1.6.1.1-FIXED-INCOME-MANDATES-9.1.1\">1.6.1.1 FIXED-INCOME MANDATES</a></span><ul class=\"toc-item\"><li><span><a href=\"#Liability-based-mandates\" data-toc-modified-id=\"Liability-based-mandates-9.1.1.1\">Liability-based mandates</a></span></li><li><span><a href=\"#Total-return-mandates\" data-toc-modified-id=\"Total-return-mandates-9.1.1.2\">Total return mandates</a></span></li></ul></li><li><span><a href=\"#1.6.1.2-BOND-LIQUIDITY\" data-toc-modified-id=\"1.6.1.2-BOND-LIQUIDITY-9.1.2\">1.6.1.2 BOND LIQUIDITY</a></span></li><li><span><a href=\"#1.6.1.3-MODELING-RETURN\" data-toc-modified-id=\"1.6.1.3-MODELING-RETURN-9.1.3\">1.6.1.3 MODELING RETURN</a></span><ul class=\"toc-item\"><li><span><a href=\"#Expected-fixed-income-return-can-be-viewed-as-having-five-components.\" data-toc-modified-id=\"Expected-fixed-income-return-can-be-viewed-as-having-five-components.-9.1.3.1\">Expected fixed-income return can be viewed as having five components.</a></span></li></ul></li><li><span><a href=\"#1.6.1.4-LEVERAGE-AND-TAX-ISSUES\" data-toc-modified-id=\"1.6.1.4-LEVERAGE-AND-TAX-ISSUES-9.1.4\">1.6.1.4 LEVERAGE AND TAX ISSUES</a></span><ul class=\"toc-item\"><li><span><a href=\"#Repurchase-agreements-(repos)\" data-toc-modified-id=\"Repurchase-agreements-(repos)-9.1.4.1\">Repurchase agreements (repos)</a></span></li><li><span><a href=\"#Futures-contracts\" data-toc-modified-id=\"Futures-contracts-9.1.4.2\">Futures contracts</a></span></li><li><span><a href=\"#Swap-agreements\" data-toc-modified-id=\"Swap-agreements-9.1.4.3\">Swap agreements</a></span></li><li><span><a href=\"#Structured-finance-instruments\" data-toc-modified-id=\"Structured-finance-instruments-9.1.4.4\">Structured finance instruments</a></span></li><li><span><a href=\"#Securities-lending\" data-toc-modified-id=\"Securities-lending-9.1.4.5\">Securities lending</a></span></li><li><span><a href=\"#Risks-Created-by-Leverage\" data-toc-modified-id=\"Risks-Created-by-Leverage-9.1.4.6\">Risks Created by Leverage</a></span></li></ul></li><li><span><a href=\"#1.6.1.5-MANAGING-TAXABLE-AND-TAX-EXEMPT-PORTFOLIOS\" data-toc-modified-id=\"1.6.1.5-MANAGING-TAXABLE-AND-TAX-EXEMPT-PORTFOLIOS-9.1.5\">1.6.1.5 MANAGING TAXABLE AND TAX-EXEMPT PORTFOLIOS</a></span><ul class=\"toc-item\"><li><span><a href=\"#Discuss-differences-in-managing-fixed-income-portfolios-for-taxable-and-taxexempt-investors.\" data-toc-modified-id=\"Discuss-differences-in-managing-fixed-income-portfolios-for-taxable-and-taxexempt-investors.-9.1.5.1\">Discuss differences in managing fixed-income portfolios for taxable and taxexempt investors.</a></span></li><li><span><a href=\"#Strategies-to-use-in-managing-taxable-accounts-include:\" data-toc-modified-id=\"Strategies-to-use-in-managing-taxable-accounts-include:-9.1.5.2\">Strategies to use in managing taxable accounts include:</a></span></li></ul></li></ul></li><li><span><a href=\"#1.6.2-READING-19:-LIABILITY-DRIVEN-AND-INDEX-BASED-STRATEGIES\" data-toc-modified-id=\"1.6.2-READING-19:-LIABILITY-DRIVEN-AND-INDEX-BASED-STRATEGIES-9.2\">1.6.2 READING 19: LIABILITY-DRIVEN AND INDEX-BASED STRATEGIES</a></span><ul class=\"toc-item\"><li><span><a href=\"#1.6.2.1-liability-driven-investing-LDI,-BASICS\" data-toc-modified-id=\"1.6.2.1-liability-driven-investing-LDI,-BASICS-9.2.1\">1.6.2.1 liability-driven investing LDI, BASICS</a></span><ul class=\"toc-item\"><li><span><a href=\"#Asset-liability-management-(ALM)\" data-toc-modified-id=\"Asset-liability-management-(ALM)-9.2.1.1\">Asset-liability management (ALM)</a></span></li><li><span><a href=\"#Liability-driven-investing-(LDI)\" data-toc-modified-id=\"Liability-driven-investing-(LDI)-9.2.1.2\">Liability-driven investing (LDI)</a></span></li><li><span><a href=\"#Asset-driven-investing-(ADI)\" data-toc-modified-id=\"Asset-driven-investing-(ADI)-9.2.1.3\">Asset-driven investing (ADI)</a></span></li><li><span><a href=\"#Four-types-of-liabilities-Type-I-II-III-IV\" data-toc-modified-id=\"Four-types-of-liabilities-Type-I-II-III-IV-9.2.1.4\">Four types of liabilities Type I II III IV</a></span></li><li><span><a href=\"#BPV(Basis-point-value)-=-MD-×-V-×-0.0001-=-price-value-of-a-basis-point\" data-toc-modified-id=\"BPV(Basis-point-value)-=-MD-×-V-×-0.0001-=-price-value-of-a-basis-point-9.2.1.5\">BPV(Basis point value) = MD × V × 0.0001 = price value of a basis point</a></span></li></ul></li><li><span><a href=\"#1.6.2.2-IMMUNIZING-A-SINGLE-LIABILITY\" data-toc-modified-id=\"1.6.2.2-IMMUNIZING-A-SINGLE-LIABILITY-9.2.2\">1.6.2.2 IMMUNIZING A SINGLE LIABILITY</a></span><ul class=\"toc-item\"><li><span><a href=\"#Immunization\" data-toc-modified-id=\"Immunization-9.2.2.1\">Immunization</a></span></li><li><span><a href=\"#Convexity\" data-toc-modified-id=\"Convexity-9.2.2.2\">Convexity</a></span></li></ul></li><li><span><a href=\"#1.6.2.3-IMMUNIZING-MULTIPLE-LIABILITIES\" data-toc-modified-id=\"1.6.2.3-IMMUNIZING-MULTIPLE-LIABILITIES-9.2.3\">1.6.2.3 IMMUNIZING MULTIPLE LIABILITIES</a></span></li><li><span><a href=\"#1.6.2.4-MANAGING-A-DURATION-GAP\" data-toc-modified-id=\"1.6.2.4-MANAGING-A-DURATION-GAP-9.2.4\">1.6.2.4 MANAGING A DURATION GAP</a></span><ul class=\"toc-item\"><li><span><a href=\"#derivatives-overlay\" data-toc-modified-id=\"derivatives-overlay-9.2.4.1\">derivatives overlay</a></span></li><li><span><a href=\"#BPV-（price-value-of-a-basis-point）\" data-toc-modified-id=\"BPV-（price-value-of-a-basis-point）-9.2.4.2\">BPV （price value of a basis point）</a></span></li><li><span><a href=\"#number-of-contracts-required-(Nf)\" data-toc-modified-id=\"number-of-contracts-required-(Nf)-9.2.4.3\">number of contracts required (Nf)</a></span></li></ul></li><li><span><a href=\"#1.6.2.4-ADVANCED-STRATEGIES\" data-toc-modified-id=\"1.6.2.4-ADVANCED-STRATEGIES-9.2.5\">1.6.2.4 ADVANCED STRATEGIES</a></span><ul class=\"toc-item\"><li><span><a href=\"#Interest-rate-swaps\" data-toc-modified-id=\"Interest-rate-swaps-9.2.5.1\">Interest rate swaps</a></span></li><li><span><a href=\"#Swaption---swap-fixed-rate-(SFR)\" data-toc-modified-id=\"Swaption---swap-fixed-rate-(SFR)-9.2.5.2\">Swaption - swap fixed rate (SFR)</a></span></li><li><span><a href=\"#Swaption-collar\" data-toc-modified-id=\"Swaption-collar-9.2.5.3\">Swaption collar</a></span></li></ul></li><li><span><a href=\"#1.6.2.5-CHOOSING-AN-OPTIMAL-STRATEGY\" data-toc-modified-id=\"1.6.2.5-CHOOSING-AN-OPTIMAL-STRATEGY-9.2.6\">1.6.2.5 CHOOSING AN OPTIMAL STRATEGY</a></span></li><li><span><a href=\"#1.6.2.6-Risks-associated-with-managing-a-portfolio-against-a-liability-structure\" data-toc-modified-id=\"1.6.2.6-Risks-associated-with-managing-a-portfolio-against-a-liability-structure-9.2.7\">1.6.2.6 Risks associated with managing a portfolio against a liability structure</a></span></li><li><span><a href=\"#1.6.2.7-INDEX-BASED-INVESTING\" data-toc-modified-id=\"1.6.2.7-INDEX-BASED-INVESTING-9.2.8\">1.6.2.7 INDEX-BASED INVESTING</a></span><ul class=\"toc-item\"><li><span><a href=\"#A.-Purpose-----minimize-tracking-error\" data-toc-modified-id=\"A.-Purpose-----minimize-tracking-error-9.2.8.1\">A. Purpose --- minimize tracking error</a></span></li><li><span><a href=\"#Tracking-error\" data-toc-modified-id=\"Tracking-error-9.2.8.2\">Tracking error</a></span></li><li><span><a href=\"#Pure-index-&amp;-Enhanced-indexing\" data-toc-modified-id=\"Pure-index-&amp;-Enhanced-indexing-9.2.8.3\">Pure index &amp; Enhanced indexing</a></span></li><li><span><a href=\"#B.-Feature-----more-difficult-than-for-equity-indexing\" data-toc-modified-id=\"B.-Feature-----more-difficult-than-for-equity-indexing-9.2.8.4\">B. Feature --- more difficult than for equity indexing</a></span></li><li><span><a href=\"#C.-Practical-Way-to-minimize-tracking-error\" data-toc-modified-id=\"C.-Practical-Way-to-minimize-tracking-error-9.2.8.5\">C. Practical Way to minimize tracking error</a></span></li></ul></li><li><span><a href=\"#1.6.2.8-ALTERNATIVE-METHODS-OF-OBTAINING-PASSIVE-BOND-MARKET-EXPOSURE\" data-toc-modified-id=\"1.6.2.8-ALTERNATIVE-METHODS-OF-OBTAINING-PASSIVE-BOND-MARKET-EXPOSURE-9.2.9\">1.6.2.8 ALTERNATIVE METHODS OF OBTAINING PASSIVE BOND MARKET EXPOSURE</a></span><ul class=\"toc-item\"><li><span><a href=\"#Stratified-sampling\" data-toc-modified-id=\"Stratified-sampling-9.2.9.1\">Stratified sampling</a></span></li><li><span><a href=\"#Other-Passive-Methods\" data-toc-modified-id=\"Other-Passive-Methods-9.2.9.2\">Other Passive Methods</a></span></li></ul></li><li><span><a href=\"#1.6.2.9-BOND-BENCHMARK-SELECTION\" data-toc-modified-id=\"1.6.2.9-BOND-BENCHMARK-SELECTION-9.2.10\">1.6.2.9 BOND BENCHMARK SELECTION</a></span><ul class=\"toc-item\"><li><span><a href=\"#Smart-beta\" data-toc-modified-id=\"Smart-beta-9.2.10.1\">Smart beta</a></span></li></ul></li><li><span><a href=\"#1.6.2.10-BULLET,-LADDER,-BARBELL\" data-toc-modified-id=\"1.6.2.10-BULLET,-LADDER,-BARBELL-9.2.11\">1.6.2.10 BULLET, LADDER, BARBELL</a></span><ul class=\"toc-item\"><li><span><a href=\"#Laddered-bond-portfolio\" data-toc-modified-id=\"Laddered-bond-portfolio-9.2.11.1\">Laddered bond portfolio</a></span></li><li><span><a href=\"#Bullet-portfolio\" data-toc-modified-id=\"Bullet-portfolio-9.2.11.2\">Bullet portfolio</a></span></li><li><span><a href=\"#Barbell-portfolio\" data-toc-modified-id=\"Barbell-portfolio-9.2.11.3\">Barbell portfolio</a></span></li></ul></li></ul></li><li><span><a href=\"#1.6.3-YIELD-CURVE-STRATEGIES\" data-toc-modified-id=\"1.6.3-YIELD-CURVE-STRATEGIES-9.3\">1.6.3 YIELD CURVE STRATEGIES</a></span><ul class=\"toc-item\"><li><span><a href=\"#1.6.3.1-The-three-sources-of-change-in-the-yield-curve\" data-toc-modified-id=\"1.6.3.1-The-three-sources-of-change-in-the-yield-curve-9.3.1\">1.6.3.1 The three sources of change in the yield curve</a></span><ul class=\"toc-item\"><li><span><a href=\"#Recall\" data-toc-modified-id=\"Recall-9.3.1.1\">Recall</a></span></li></ul></li><li><span><a href=\"#1.6.3.2-STRATEGIES-FOR-CHANGING-YIELD-CURVES\" data-toc-modified-id=\"1.6.3.2-STRATEGIES-FOR-CHANGING-YIELD-CURVES-9.3.2\">1.6.3.2 STRATEGIES FOR CHANGING YIELD CURVES</a></span><ul class=\"toc-item\"><li><span><a href=\"#1.6.3.2.1-Strategies-for-a-Parallel-Shift-in-the-Curve\" data-toc-modified-id=\"1.6.3.2.1-Strategies-for-a-Parallel-Shift-in-the-Curve-9.3.2.1\">1.6.3.2.1 Strategies for a Parallel Shift in the Curve</a></span></li><li><span><a href=\"#1.6.3.2.2-Strategies-for-a-Nonparallel-Shift-in-the-Curve\" data-toc-modified-id=\"1.6.3.2.2-Strategies-for-a-Nonparallel-Shift-in-the-Curve-9.3.2.2\">1.6.3.2.2 Strategies for a Nonparallel Shift in the Curve</a></span></li></ul></li><li><span><a href=\"#1.6.3.3-ADJUSTING-CONVEXITY\" data-toc-modified-id=\"1.6.3.3-ADJUSTING-CONVEXITY-9.3.3\">1.6.3.3 ADJUSTING CONVEXITY</a></span><ul class=\"toc-item\"><li><span><a href=\"#Barbell-vs.-Bullet-Structure\" data-toc-modified-id=\"Barbell-vs.-Bullet-Structure-9.3.3.1\">Barbell vs. Bullet Structure</a></span></li><li><span><a href=\"#Options-on-Bonds-(much-more-dramatic-impact-on-convexity)\" data-toc-modified-id=\"Options-on-Bonds-(much-more-dramatic-impact-on-convexity)-9.3.3.2\">Options on Bonds (much more dramatic impact on convexity)</a></span></li><li><span><a href=\"#Bonds-with-Embedded-Options\" data-toc-modified-id=\"Bonds-with-Embedded-Options-9.3.3.3\">Bonds with Embedded Options</a></span></li></ul></li><li><span><a href=\"#1.6.3.4-CARRY-TRADES\" data-toc-modified-id=\"1.6.3.4-CARRY-TRADES-9.3.4\">1.6.3.4 CARRY TRADES</a></span></li><li><span><a href=\"#1.6.3.5-DETERMINING-AN-OPTIMAL-STRATEGY\" data-toc-modified-id=\"1.6.3.5-DETERMINING-AN-OPTIMAL-STRATEGY-9.3.5\">1.6.3.5 DETERMINING AN OPTIMAL STRATEGY</a></span><ul class=\"toc-item\"><li><span><a href=\"#1.-Assume-Yield-Curve-Is-Unchanged\" data-toc-modified-id=\"1.-Assume-Yield-Curve-Is-Unchanged-9.3.5.1\">1. Assume Yield Curve Is Unchanged</a></span></li><li><span><a href=\"#2.-Yield-Curve-Moves-as-Forecasted\" data-toc-modified-id=\"2.-Yield-Curve-Moves-as-Forecasted-9.3.5.2\">2. Yield Curve Moves as Forecasted</a></span></li></ul></li><li><span><a href=\"#1.6.3.6-USING-DERIVATIVES-TO-IMPLEMENT-A-YIELD-CURVE\" data-toc-modified-id=\"1.6.3.6-USING-DERIVATIVES-TO-IMPLEMENT-A-YIELD-CURVE-9.3.6\">1.6.3.6 USING DERIVATIVES TO IMPLEMENT A YIELD CURVE</a></span><ul class=\"toc-item\"><li><span><a href=\"#In-general,-the-optimal-strategy-to-profit-from-nonparallel-shifts-will:\" data-toc-modified-id=\"In-general,-the-optimal-strategy-to-profit-from-nonparallel-shifts-will:-9.3.6.1\">In general, the optimal strategy to profit from nonparallel shifts will:</a></span></li><li><span><a href=\"#Changing-Portfolio-Duration-With-Futures:\" data-toc-modified-id=\"Changing-Portfolio-Duration-With-Futures:-9.3.6.2\">Changing Portfolio Duration With Futures:</a></span></li><li><span><a href=\"#Changing-Portfolio-Duration-With-Swaps\" data-toc-modified-id=\"Changing-Portfolio-Duration-With-Swaps-9.3.6.3\">Changing Portfolio Duration With Swaps</a></span></li><li><span><a href=\"#Changing-Portfolio-Convexity-With-Options\" data-toc-modified-id=\"Changing-Portfolio-Convexity-With-Options-9.3.6.4\">Changing Portfolio Convexity With Options</a></span></li></ul></li><li><span><a href=\"#1.6.3.7-USING-KEY-RATE-DURATIONS-TO-DETERMINE-OPTIMAL-STRATEGY\" data-toc-modified-id=\"1.6.3.7-USING-KEY-RATE-DURATIONS-TO-DETERMINE-OPTIMAL-STRATEGY-9.3.7\">1.6.3.7 USING KEY RATE DURATIONS TO DETERMINE OPTIMAL STRATEGY</a></span><ul class=\"toc-item\"><li><span><a href=\"#Key-rate-durations-(KRD)---partial-durations\" data-toc-modified-id=\"Key-rate-durations-(KRD)---partial-durations-9.3.7.1\">Key rate durations (KRD) - partial durations</a></span></li><li><span><a href=\"#DURATION-NEUTRAL-CURVE-TRADES\" data-toc-modified-id=\"DURATION-NEUTRAL-CURVE-TRADES-9.3.7.2\">DURATION-NEUTRAL CURVE TRADES</a></span></li></ul></li><li><span><a href=\"#1.6.3.8-INTER-MARKET-CURVE-STRATEGIES\" data-toc-modified-id=\"1.6.3.8-INTER-MARKET-CURVE-STRATEGIES-9.3.8\">1.6.3.8 INTER-MARKET CURVE STRATEGIES</a></span></li></ul></li><li><span><a href=\"#1.6.4-FIXED-INCOME-ACTIVE-MANAGEMENT:-CREDIT-STRATEGIES\" data-toc-modified-id=\"1.6.4-FIXED-INCOME-ACTIVE-MANAGEMENT:-CREDIT-STRATEGIES-9.4\">1.6.4 FIXED-INCOME ACTIVE MANAGEMENT: CREDIT STRATEGIES</a></span><ul class=\"toc-item\"><li><span><a href=\"#1.6.4.1-IG-(Investment-grade)-VS.-HY(High-yield)-AND-MEASURING-SPREAD\" data-toc-modified-id=\"1.6.4.1-IG-(Investment-grade)-VS.-HY(High-yield)-AND-MEASURING-SPREAD-9.4.1\">1.6.4.1 IG (Investment-grade) VS. HY(High-yield) AND MEASURING SPREAD</a></span><ul class=\"toc-item\"><li><span><a href=\"#Investment-grade-(IG)-bonds-are-defined-as-ratings-above-BB.\" data-toc-modified-id=\"Investment-grade-(IG)-bonds-are-defined-as-ratings-above-BB.-9.4.1.1\">Investment-grade (IG) bonds are defined as ratings above BB.</a></span></li><li><span><a href=\"#High-yield-(HY)-bonds-are-all-bonds-rated-below-investment-grade.\" data-toc-modified-id=\"High-yield-(HY)-bonds-are-all-bonds-rated-below-investment-grade.-9.4.1.2\">High-yield (HY) bonds are all bonds rated below investment-grade.</a></span></li><li><span><a href=\"#a-similar-approach-to-credit-evaluation\" data-toc-modified-id=\"a-similar-approach-to-credit-evaluation-9.4.1.3\">a similar approach to credit evaluation</a></span></li></ul></li><li><span><a href=\"#1.6.4.2-Risk-considerations-in-investment-grade-and-high-yield-corporate-bond-portfolios.\" data-toc-modified-id=\"1.6.4.2-Risk-considerations-in-investment-grade-and-high-yield-corporate-bond-portfolios.-9.4.2\">1.6.4.2 Risk considerations in investment-grade and high-yield corporate bond portfolios.</a></span><ul class=\"toc-item\"><li><span><a href=\"#Credit-risk--loss-caused-by-a-counterparty’s-or-debtor’s-failure-to-pay\" data-toc-modified-id=\"Credit-risk--loss-caused-by-a-counterparty’s-or-debtor’s-failure-to-pay-9.4.2.1\">Credit risk -loss caused by a counterparty’s or debtor’s failure to pay</a></span></li><li><span><a href=\"#Spread-risk---decline-in-price-relative-to-credit-risk-free-bonds-due-to-spread-widening\" data-toc-modified-id=\"Spread-risk---decline-in-price-relative-to-credit-risk-free-bonds-due-to-spread-widening-9.4.2.2\">Spread risk - decline in price relative to credit risk free bonds due to spread widening</a></span></li><li><span><a href=\"#Liquidity-risk---the-ability-to-buy-or-sell-quickly-at-near-fair-market-value\" data-toc-modified-id=\"Liquidity-risk---the-ability-to-buy-or-sell-quickly-at-near-fair-market-value-9.4.2.3\">Liquidity risk - the ability to buy or sell quickly at near fair market value</a></span></li></ul></li><li><span><a href=\"#1.6.4.3-CREDIT-SPREAD-MEASURES\" data-toc-modified-id=\"1.6.4.3-CREDIT-SPREAD-MEASURES-9.4.3\">1.6.4.3 CREDIT SPREAD MEASURES</a></span><ul class=\"toc-item\"><li><span><a href=\"#Benchmark-spread\" data-toc-modified-id=\"Benchmark-spread-9.4.3.1\">Benchmark spread</a></span></li><li><span><a href=\"#G-spread\" data-toc-modified-id=\"G-spread-9.4.3.2\">G-spread</a></span></li><li><span><a href=\"#I-spread\" data-toc-modified-id=\"I-spread-9.4.3.3\">I-spread</a></span></li><li><span><a href=\"#Z-spread-(zero-volatility-spread)-is-a-trial-and-error-calculation\" data-toc-modified-id=\"Z-spread-(zero-volatility-spread)-is-a-trial-and-error-calculation-9.4.3.4\">Z-spread (zero-volatility spread) is a trial and error calculation</a></span></li><li><span><a href=\"#Option-adjusted-spread（OAS)\" data-toc-modified-id=\"Option-adjusted-spread（OAS)-9.4.3.5\">Option adjusted spread（OAS)</a></span></li></ul></li><li><span><a href=\"#1.6.4.4-Bottom-up-and-top-down-approaches-to-credit-strategies\" data-toc-modified-id=\"1.6.4.4-Bottom-up-and-top-down-approaches-to-credit-strategies-9.4.4\">1.6.4.4 Bottom-up and top-down approaches to credit strategies</a></span></li><li><span><a href=\"#Bottom-up\" data-toc-modified-id=\"Bottom-up-9.4.5\">Bottom-up</a></span><ul class=\"toc-item\"><li><span><a href=\"#Spread-Curves\" data-toc-modified-id=\"Spread-Curves-9.4.5.1\">Spread Curves</a></span></li><li><span><a href=\"#TOP-DOWN\" data-toc-modified-id=\"TOP-DOWN-9.4.5.2\">TOP-DOWN</a></span></li></ul></li><li><span><a href=\"#1.6.4.5-ADJUSTING-THE-CREDIT-PORTFOLIO’S-INTEREST-RATE-RISK\" data-toc-modified-id=\"1.6.4.5-ADJUSTING-THE-CREDIT-PORTFOLIO’S-INTEREST-RATE-RISK-9.4.6\">1.6.4.5 ADJUSTING THE CREDIT PORTFOLIO’S INTEREST RATE RISK</a></span></li><li><span><a href=\"#1.6.4.6-ESG-Considerations\" data-toc-modified-id=\"1.6.4.6-ESG-Considerations-9.4.7\">1.6.4.6 ESG Considerations</a></span></li><li><span><a href=\"#1.6.4.7-How-liquidity-risk-can-be-managed-in-a-credit-portfolio\" data-toc-modified-id=\"1.6.4.7-How-liquidity-risk-can-be-managed-in-a-credit-portfolio-9.4.8\">1.6.4.7 How liquidity risk can be managed in a credit portfolio</a></span></li><li><span><a href=\"#1.6.4.8-How-tail-risk-can-be-managed-in-a-credit-portfolio\" data-toc-modified-id=\"1.6.4.8-How-tail-risk-can-be-managed-in-a-credit-portfolio-9.4.9\">1.6.4.8 How tail risk can be managed in a credit portfolio</a></span><ul class=\"toc-item\"><li><span><a href=\"#Tail-risk\" data-toc-modified-id=\"Tail-risk-9.4.9.1\">Tail risk</a></span></li><li><span><a href=\"#How-to-Manage:\" data-toc-modified-id=\"How-to-Manage:-9.4.9.2\">How to Manage:</a></span></li></ul></li><li><span><a href=\"#1.6.4.9-STRUCTURED-INSTRUMENTS\" data-toc-modified-id=\"1.6.4.9-STRUCTURED-INSTRUMENTS-9.4.10\">1.6.4.9 STRUCTURED INSTRUMENTS</a></span><ul class=\"toc-item\"><li><span><a href=\"#Mortgage-backed-securities-(MBSs)\" data-toc-modified-id=\"Mortgage-backed-securities-(MBSs)-9.4.10.1\">Mortgage-backed securities (MBSs)</a></span></li><li><span><a href=\"#Asset-backed-securities-(ABSs)\" data-toc-modified-id=\"Asset-backed-securities-(ABSs)-9.4.10.2\">Asset-backed securities (ABSs)</a></span></li><li><span><a href=\"#Collateralized-debt-obligations-(CDOs)\" data-toc-modified-id=\"Collateralized-debt-obligations-(CDOs)-9.4.10.3\">Collateralized debt obligations (CDOs)</a></span></li><li><span><a href=\"#Covered-bonds\" data-toc-modified-id=\"Covered-bonds-9.4.10.4\">Covered bonds</a></span></li></ul></li><li><span><a href=\"#1.6.1.\" data-toc-modified-id=\"1.6.1.-9.4.11\">1.6.1.</a></span></li><li><span><a href=\"#1.6.1.\" data-toc-modified-id=\"1.6.1.-9.4.12\">1.6.1.</a></span></li><li><span><a href=\"#1.6.1.\" data-toc-modified-id=\"1.6.1.-9.4.13\">1.6.1.</a></span></li><li><span><a href=\"#1.6.1.\" data-toc-modified-id=\"1.6.1.-9.4.14\">1.6.1.</a></span></li><li><span><a href=\"#1.6.1.\" data-toc-modified-id=\"1.6.1.-9.4.15\">1.6.1.</a></span></li><li><span><a href=\"#1.6.1.\" data-toc-modified-id=\"1.6.1.-9.4.16\">1.6.1.</a></span></li><li><span><a href=\"#1.6.1.\" data-toc-modified-id=\"1.6.1.-9.4.17\">1.6.1.</a></span></li><li><span><a href=\"#1.6.1.\" data-toc-modified-id=\"1.6.1.-9.4.18\">1.6.1.</a></span></li><li><span><a href=\"#1.6.1.\" data-toc-modified-id=\"1.6.1.-9.4.19\">1.6.1.</a></span></li><li><span><a href=\"#1.6.1.\" data-toc-modified-id=\"1.6.1.-9.4.20\">1.6.1.</a></span></li><li><span><a href=\"#1.6.1.\" data-toc-modified-id=\"1.6.1.-9.4.21\">1.6.1.</a></span></li><li><span><a href=\"#1.6.1.\" data-toc-modified-id=\"1.6.1.-9.4.22\">1.6.1.</a></span></li><li><span><a href=\"#1.6.1.\" data-toc-modified-id=\"1.6.1.-9.4.23\">1.6.1.</a></span></li><li><span><a href=\"#1.6.1.\" data-toc-modified-id=\"1.6.1.-9.4.24\">1.6.1.</a></span></li><li><span><a href=\"#1.6.1.\" data-toc-modified-id=\"1.6.1.-9.4.25\">1.6.1.</a></span></li><li><span><a href=\"#1.6.1.\" data-toc-modified-id=\"1.6.1.-9.4.26\">1.6.1.</a></span></li><li><span><a href=\"#1.6.1.\" data-toc-modified-id=\"1.6.1.-9.4.27\">1.6.1.</a></span></li><li><span><a href=\"#1.6.1.\" data-toc-modified-id=\"1.6.1.-9.4.28\">1.6.1.</a></span></li><li><span><a href=\"#1.6.1.\" data-toc-modified-id=\"1.6.1.-9.4.29\">1.6.1.</a></span></li><li><span><a href=\"#1.6.1.\" data-toc-modified-id=\"1.6.1.-9.4.30\">1.6.1.</a></span></li></ul></li></ul></li><li><span><a href=\"#1.7-Equity-Portfolio-Management-**\" data-toc-modified-id=\"1.7-Equity-Portfolio-Management-**-10\">1.7 Equity Portfolio Management **</a></span><ul class=\"toc-item\"><li><span><a href=\"#1.7.1-OVERVIEW-OF-EQUITY-PORTFOLIO-MANAGEMENT\" data-toc-modified-id=\"1.7.1-OVERVIEW-OF-EQUITY-PORTFOLIO-MANAGEMENT-10.1\">1.7.1 OVERVIEW OF EQUITY PORTFOLIO MANAGEMENT</a></span></li></ul></li><li><span><a href=\"#1.8-Alternative-Investments-for-Portfolio-Management\" data-toc-modified-id=\"1.8-Alternative-Investments-for-Portfolio-Management-11\">1.8 Alternative Investments for Portfolio Management</a></span></li><li><span><a href=\"#1.9-Private-Wealth-Management-**\" data-toc-modified-id=\"1.9-Private-Wealth-Management-**-12\">1.9 Private Wealth Management **</a></span></li><li><span><a href=\"#1.10-Portfolio-Management-for-Institutional-Investors\" data-toc-modified-id=\"1.10-Portfolio-Management-for-Institutional-Investors-13\">1.10 Portfolio Management for Institutional Investors</a></span></li><li><span><a href=\"#1.11-Trading,-Performance-Evaluation,-and-Manager-Selection\" data-toc-modified-id=\"1.11-Trading,-Performance-Evaluation,-and-Manager-Selection-14\">1.11 Trading, Performance Evaluation, and Manager Selection</a></span></li><li><span><a href=\"#1.12-Cases-in-Portfolio-Management-and-Risk-Management\" data-toc-modified-id=\"1.12-Cases-in-Portfolio-Management-and-Risk-Management-15\">1.12 Cases in Portfolio Management and Risk Management</a></span></li><li><span><a href=\"#3-Testbanks*\" data-toc-modified-id=\"3-Testbanks*-16\">3 Testbanks*</a></span></li><li><span><a href=\"#4-Other-Useful-Resources-and-Courses\" data-toc-modified-id=\"4-Other-Useful-Resources-and-Courses-17\">4 Other Useful Resources and Courses</a></span></li><li><span><a href=\"#5-Dictionary\" data-toc-modified-id=\"5-Dictionary-18\">5 Dictionary</a></span></li><li><span><a href=\"#6\" data-toc-modified-id=\"6-19\">6</a></span></li></ul></div>"
   ]
  },
  {
   "cell_type": "markdown",
   "metadata": {},
   "source": [
    "# CFA Level III Note\n",
    "Official Resources when preparing \n",
    "## Los Command\n",
    "https://www.cfainstitute.org/-/media/documents/support/programs/cfa-and-cipm-los-command-words.ashx\n",
    "## 2020-level III -studysessions-combined\n",
    "https://www.cfainstitute.org/-/media/documents/study-session/2020-l3-studysessions-combined.ashx?la=en&hash=433E641C1251A7953A01654064618268C6A85AD4\n",
    "\n",
    "针对Essay的考题特点,Schweser建议最好的强化方法不是花大量时间练习写作,而是熟悉IPS(InvestmentPolicyStatement)写作的固定模式,细化到每个最常用的关键字\n",
    "\n",
    "CFA三级侧重综合和应用；CFA三级考试侧重投资组合管理，投资绩效分析和理财管理，要求考生熟知资产定价和投资绩效分析，能够独立撰写投资报告，考试形式是按照例文要求分析投资绩效，独立撰写投资分析报告。"
   ]
  },
  {
   "cell_type": "markdown",
   "metadata": {},
   "source": [
    "# 0 Key Topics 重点\n",
    "## 0.1 Behavioral Finance\n",
    "这一般是大家拿来入门的章节，可是上来就那么多名词，那么多原理真的完全看晕了。其实这一章节最大的重点就是各个bias，其他的东西都是帮助理解的，考试不会考。我自己列了一个清单，把所有bias根据分类总结了一遍，再把做题时候看到的案例附在旁边，考试之前琢磨透就没问题了。虽然这个章节基本没有什么计算，但理论题也没那么可怕。而且我觉得Behavioral Finance很有意思，心理学和金融学相结合，读起来也可以引人入胜的。\n",
    "## 0.2 Individual Investor\n",
    "个人投资的学习顺序要调整一下。要从Tax那部分开始看，看完之后再回过头看第一部分，因为第一部分是总结性质的。总体来说这个章节不难，但要注意的是，现在的Individual Investor考试比起过去，更注重了后面几个部分的考察，让你算return还有各种constrain的题占比越来越小，所以一定要重视后面的内容，Estate Planning和Concentrated Single Asset Positions等是非常非常重要的。\n",
    "## 0.3 Institutional Investors\n",
    "属于最简单的一个Topic，基本没什么技术含量，搞清各种机构投资者的RRTTLLU就没问题了。考题80%是pension，但最近几年也对后面的Insurance和foundation加强了重要性，只要多做点儿例题找准规律，这部分一定保证70%以上。\n",
    "## 0.4 Capital Market Expectation\n",
    "这部分重点我认为有两个。一个是要和Behavioral Finance相结合的Psychological Traps，真的是反复考，一定弄懂。还有就是CME的几个工具，包括几个model，特别是Financial Equilibrium Approach，要看懂书上的例题。这部分也没有什么技术含量，记忆为主，理解为辅。\n",
    "## 0.5 Equity Market Valuation\n",
    "Fed Model、the Yardeni Model、10 year moving average price/earnings还有tobin’s q、Equity’s q的比较搞清楚就OK了，谁放分子谁放分母别记混了，各种方法的优缺点记清楚，上午题应该会考。\n",
    "## 0.6 Asset Allocation\n",
    "重点是Asset Allocation的6种方法，各种方法的利弊，尤其是black-litterman和Resampled Efficient Frontier，Monte Carlo就更不用说了，整个教材它神出鬼没，关于Monte Carlo的所有知识建议看完教材做个总结。对了，这次考试考了一个Risk Adjusted Expected Return，就是带risk aversion的那个公式。我没记住公式里到底是0.005还是0.05，果断写错了。细节还是得够细才行。\n",
    "## 0.7 Fixed-Income\n",
    "两个部分，都算挺复杂的。这部分我逐字逐句慢慢读的，最后整理出来一个大框架，如果你也按照这个方法去做，相信搞明白这里面的头绪就快多了。论坛上也有很多大神上传了自己组织的结构图（原版教材上也有一个大概的图），用他们的也可以。我是结合了很多人的只是框架自己梳理了一个，效果还不错。这个topic没有重点，全都很重要，Duration Match是贯穿始终的关键词。千万别小看 最后那个Credit Relative-Value Analysis，考试很容易考。\n",
    "## 0.8 Equity Portfolio Management\n",
    "Equity里面知识点挺多的，所有的index weighting method不光要懂原理也要会计算，indexed Portfolio的分类和构成方法，三种Equity Styles的各自特点，还有Investment Strategies，弄清楚portable alpha，最后Optimal Allocation to Managers里面涉及到的所有公式，都着重看一下，课后练习题都有涉及，多做几遍就OK 了。这次考试最让我吃惊的是竟然考了一道Business Ethics的题，让你区分Friedman、Kantian和Utilitarian，这部分我基本没看，考试就傻眼了。看似不重要的东西，建议不要放过。\n",
    "## 0.9 Alternative Investment\n",
    "六大类其他投资类型，Commodity的roll return经常考，对冲基金的分类和投资原理一定要搞清楚，FOF的好处貌似今年考了，Sharpe Ratio容易被操纵的解决方式也要搞清楚。这部分知识点也很零碎，但大多都是记忆类型的，如果你有这方面的工作经验，那应该就更轻松了。\n",
    "## 0.10 Risk Management\n",
    "个人认为是最复杂的一个部分。我是最不喜欢汇率和衍生品的，RM里面却涉及了特别多。Currency Risk Management里面也有个roll return，到现在我也看得云里雾里，Reduce Hedging Cost我记得今年上午题考了，不难。Forward和Futures里面有六类题型，课后练习题里面的六道例题完全涵盖，比较好掌握。Options不要只去记图形和公式，要理解清楚为什么，breakeven的公式经常考，Delta Hedge是重点。Swaps的秘诀也是例题和课后题，Leveraged-Floating note和Inverse floating note理解起来不难但是一做题就不会，要注意。最后记得把所有调整类的公式整理一下，比如Modify Duration和Modify Beta，统一记忆就不会太复杂了。\n",
    "## 0.11 Execution, Rebalance and Evaluation\n",
    "这三个Topic我一起来复习的，都是记忆比较多，重点包括VWAP和shortfall，执行不同交易种类的平台，还有Dynamic Rebalancing的那个图像和公式。可以说这部分你如果把历年考题都做完的话应该没问题了，因为它怎么出题都离不开这几个考点，多做题就能完全掌握，我觉得这部分也是技术含量不高的。\n",
    "GIPS & Ethics\n",
    "考GIPS真的就是考你背诵的能力，完全没有必要，或许这也是没考的原因？GIPS记忆的方式我是用时间轴来的，在时间轴上的各个时间点标记一下GIPS的要求，再死记硬背就容易多了。Ethics虽然和一级二级的内容一样，但是出题的方式变难了很多，这个部分我相信一二级考完之后应该没什么问题。"
   ]
  },
  {
   "cell_type": "markdown",
   "metadata": {},
   "source": [
    "# 1 All Topics Summary 2020\n",
    "## 1.1 Ethical and Professional Standards **\n",
    "### Book 1\n",
    "## 1.2 Behavioral Finance\n",
    "### Book 1\n",
    "## 1.3 Capital Market Expectations\n",
    "### Book 2\n",
    "## 1.4 Asset Allocation and Related Decisions in Portfolio Management\n",
    "### Book 2\n",
    "## 1.5 Derivatives and Currency Management\n",
    "### Book 2\n",
    "## 1.6 Fixed-Income Portfolio Management **\n",
    "### Book 3\n",
    "## 1.7 Equity Portfolio Management **\n",
    "### Book 3\n",
    "## 1.8 Alternative Investments for Portfolio Management\n",
    "### Book 4\n",
    "## 1.9 Private Wealth Management **\n",
    "### Book 4\n",
    "## 1.10 Portfolio Management for Institutional Investors\n",
    "## 1.11 Trading, Performance Evaluation, and Manager Selection\n",
    "## 1.12 Cases in Portfolio Management and Risk Management"
   ]
  },
  {
   "cell_type": "markdown",
   "metadata": {},
   "source": [
    "# 1.1 Ethical and Professional Standards **"
   ]
  },
  {
   "cell_type": "markdown",
   "metadata": {},
   "source": [
    "## To be added"
   ]
  },
  {
   "cell_type": "markdown",
   "metadata": {},
   "source": [
    "### To be added"
   ]
  },
  {
   "cell_type": "markdown",
   "metadata": {},
   "source": [
    "# 1.2 Behavioral Finance"
   ]
  },
  {
   "cell_type": "markdown",
   "metadata": {},
   "source": [
    "## To be added"
   ]
  },
  {
   "cell_type": "markdown",
   "metadata": {},
   "source": [
    "### To be added"
   ]
  },
  {
   "cell_type": "markdown",
   "metadata": {},
   "source": [
    "# 1.3 Capital Market Expectations"
   ]
  },
  {
   "cell_type": "markdown",
   "metadata": {},
   "source": [
    "# 1.4 Asset Allocation and Related Decisions in Portfolio Management"
   ]
  },
  {
   "cell_type": "markdown",
   "metadata": {},
   "source": [
    "# 1.5 Derivatives and Currency Management"
   ]
  },
  {
   "cell_type": "markdown",
   "metadata": {},
   "source": [
    "### sdadas"
   ]
  },
  {
   "cell_type": "markdown",
   "metadata": {},
   "source": []
  },
  {
   "cell_type": "markdown",
   "metadata": {},
   "source": []
  },
  {
   "cell_type": "markdown",
   "metadata": {},
   "source": []
  },
  {
   "cell_type": "markdown",
   "metadata": {},
   "source": []
  },
  {
   "cell_type": "markdown",
   "metadata": {},
   "source": []
  },
  {
   "cell_type": "markdown",
   "metadata": {},
   "source": []
  },
  {
   "cell_type": "markdown",
   "metadata": {},
   "source": []
  },
  {
   "cell_type": "markdown",
   "metadata": {},
   "source": []
  },
  {
   "cell_type": "markdown",
   "metadata": {},
   "source": []
  },
  {
   "cell_type": "markdown",
   "metadata": {},
   "source": []
  },
  {
   "cell_type": "markdown",
   "metadata": {},
   "source": []
  },
  {
   "cell_type": "markdown",
   "metadata": {},
   "source": []
  },
  {
   "cell_type": "markdown",
   "metadata": {},
   "source": []
  },
  {
   "cell_type": "markdown",
   "metadata": {},
   "source": []
  },
  {
   "cell_type": "markdown",
   "metadata": {},
   "source": []
  },
  {
   "cell_type": "markdown",
   "metadata": {},
   "source": []
  },
  {
   "cell_type": "markdown",
   "metadata": {},
   "source": []
  },
  {
   "cell_type": "markdown",
   "metadata": {},
   "source": []
  },
  {
   "cell_type": "markdown",
   "metadata": {},
   "source": []
  },
  {
   "cell_type": "markdown",
   "metadata": {},
   "source": []
  },
  {
   "cell_type": "markdown",
   "metadata": {},
   "source": []
  },
  {
   "cell_type": "markdown",
   "metadata": {},
   "source": []
  },
  {
   "cell_type": "markdown",
   "metadata": {},
   "source": []
  },
  {
   "cell_type": "markdown",
   "metadata": {},
   "source": []
  },
  {
   "cell_type": "markdown",
   "metadata": {},
   "source": []
  },
  {
   "cell_type": "markdown",
   "metadata": {},
   "source": []
  },
  {
   "cell_type": "markdown",
   "metadata": {},
   "source": []
  },
  {
   "cell_type": "markdown",
   "metadata": {},
   "source": []
  },
  {
   "cell_type": "markdown",
   "metadata": {},
   "source": []
  },
  {
   "cell_type": "markdown",
   "metadata": {},
   "source": []
  },
  {
   "cell_type": "markdown",
   "metadata": {},
   "source": []
  },
  {
   "cell_type": "markdown",
   "metadata": {},
   "source": []
  },
  {
   "cell_type": "markdown",
   "metadata": {},
   "source": []
  },
  {
   "cell_type": "markdown",
   "metadata": {},
   "source": []
  },
  {
   "cell_type": "markdown",
   "metadata": {},
   "source": []
  },
  {
   "cell_type": "markdown",
   "metadata": {},
   "source": []
  },
  {
   "cell_type": "markdown",
   "metadata": {},
   "source": []
  },
  {
   "cell_type": "markdown",
   "metadata": {},
   "source": []
  },
  {
   "cell_type": "markdown",
   "metadata": {},
   "source": []
  },
  {
   "cell_type": "markdown",
   "metadata": {},
   "source": []
  },
  {
   "cell_type": "markdown",
   "metadata": {},
   "source": []
  },
  {
   "cell_type": "markdown",
   "metadata": {},
   "source": []
  },
  {
   "cell_type": "markdown",
   "metadata": {},
   "source": []
  },
  {
   "cell_type": "markdown",
   "metadata": {},
   "source": []
  },
  {
   "cell_type": "markdown",
   "metadata": {},
   "source": []
  },
  {
   "cell_type": "markdown",
   "metadata": {},
   "source": []
  },
  {
   "cell_type": "markdown",
   "metadata": {},
   "source": [
    "# 1.6 Fixed-Income Portfolio Management **\n",
    "Book 3 (Reading 18 - Reading 25)"
   ]
  },
  {
   "cell_type": "markdown",
   "metadata": {},
   "source": [
    "## 1.6.1 READING 18: OVERVIEW OF FIXEDINCOME PORTFOLIO MANAGEMENT"
   ]
  },
  {
   "cell_type": "markdown",
   "metadata": {},
   "source": [
    "### 1.6.1.1 FIXED-INCOME MANDATES\n",
    "#### Liability-based mandates\n",
    "are portfolio assets that are managed solely to meet expected\n",
    "future liability payouts. All asset cash flows are reinvested until paid out to meet the\n",
    "liabilities. This is often referred to as immunization. There are several forms and variations of\n",
    "immunization.\n",
    "##### Cash-flow matching ; Duration matching ; Contingent immunization (CI) ; Horizon matching\n",
    "#### Total return mandates\n",
    "do not seek to fund future liabilities but may target an absolute rate\n",
    "of return or, more commonly, seek to equal or outperform (relative return versus) an index or\n",
    "some other set of specified assets. The key metrics to evaluate such portfolios are active\n",
    "return (portfolio return less return of the relevant benchmark, also called value added or\n",
    "alpha) and volatility of that active return (standard deviation of active return, also called\n",
    "active risk, tracking error, or tracking risk).\n",
    "##### Pure indexing ; Enhanced indexing ; Active management"
   ]
  },
  {
   "cell_type": "markdown",
   "metadata": {},
   "source": [
    "### 1.6.1.2 BOND LIQUIDITY"
   ]
  },
  {
   "cell_type": "markdown",
   "metadata": {},
   "source": [
    "### 1.6.1.3 MODELING RETURN\n",
    "#### Expected fixed-income return can be viewed as having five components.\n",
    "Component 1, income yield\n",
    "Component 2, rolldown return\n",
    "Component 3, expected price change\n",
    "Component 4, credit losses\n",
    "Component 5, expected gains or losses versus investor’s currency"
   ]
  },
  {
   "cell_type": "markdown",
   "metadata": {},
   "source": [
    "### 1.6.1.4 LEVERAGE AND TAX ISSUES\n",
    "#### Repurchase agreements (repos)\n",
    "#### Futures contracts\n",
    "#### Swap agreements\n",
    "#### Structured finance instruments\n",
    "#### Securities lending\n",
    "#### Risks Created by Leverage"
   ]
  },
  {
   "cell_type": "markdown",
   "metadata": {},
   "source": [
    "### 1.6.1.5 MANAGING TAXABLE AND TAX-EXEMPT PORTFOLIOS\n",
    "#### Discuss differences in managing fixed-income portfolios for taxable and taxexempt investors.\n",
    "Both tax-exempt and taxable investors should seek the highest possible risk-adjusted return\n",
    "net of fees and transaction costs, consistent with their objectives and constraints. \n",
    "'---More\n",
    "complex for taxable investors because taxes must also be taken into account to determine\n",
    "after-tax return and risk.\n",
    "#### Strategies to use in managing taxable accounts include:"
   ]
  },
  {
   "cell_type": "markdown",
   "metadata": {},
   "source": [
    "Realize capital losses to offset gains. This can include selective tax loss harvesting for"
   ]
  },
  {
   "cell_type": "markdown",
   "metadata": {},
   "source": [
    "Partial sales when the investment was acquired at multiple prices."
   ]
  },
  {
   "cell_type": "markdown",
   "metadata": {},
   "source": [
    "Extend holding periods to realize long-term, rather than short-term, capital gains."
   ]
  },
  {
   "cell_type": "markdown",
   "metadata": {},
   "source": [
    "Extend holding periods to defer taxes."
   ]
  },
  {
   "cell_type": "markdown",
   "metadata": {},
   "source": [
    "Consider differentials in income versus gain tax rates when selecting investments."
   ]
  },
  {
   "cell_type": "markdown",
   "metadata": {},
   "source": [
    "## 1.6.2 READING 19: LIABILITY-DRIVEN AND INDEX-BASED STRATEGIES"
   ]
  },
  {
   "cell_type": "markdown",
   "metadata": {},
   "source": [
    "### 1.6.2.1 liability-driven investing LDI, BASICS\n",
    "liability-driven investing (LDI) is used when there are definable future liabilities to be paid from portfolio assets.\n",
    "#### Asset-liability management (ALM)\n",
    "#### Liability-driven investing (LDI)\n",
    "#### Asset-driven investing (ADI)"
   ]
  },
  {
   "cell_type": "markdown",
   "metadata": {},
   "source": [
    "#### Four types of liabilities Type I II III IV\n",
    "1. Known future amount(s) and payout dates(s), called Type I. The issuer of an\n",
    "option-free fixed-rate bond has this type of liability. We will see that these are the\n",
    "easiest type of liability to model.\n",
    "2. Known future amount(s) but uncertain payout dates(s), called Type II. The issuer\n",
    "of a callable or putable bond has this type of liability. An insurance company selling\n",
    "term life insurance also fits here. The amount of payout is known, but the date of\n",
    "payout on any single policy is not. (However, actuaries can apply the law of large\n",
    "numbers to estimate likely payout amounts in any given period with considerable\n",
    "accuracy.)\n",
    "3. Uncertain future amount(s) but known payout dates(s), called Type III. Floating\n",
    "rate instruments and real rate bonds such as Treasury Inflation Protection Securities\n",
    "(TIPS) fall in this category.\n",
    "4. Uncertain future amount(s) and uncertain payout dates(s), called Type IV.\n",
    "Property and casualty as well as some DB plan liabilities fall in this category."
   ]
  },
  {
   "cell_type": "markdown",
   "metadata": {},
   "source": [
    "#### BPV(Basis point value) = MD × V × 0.0001 = price value of a basis point"
   ]
  },
  {
   "cell_type": "markdown",
   "metadata": {},
   "source": [
    "### 1.6.2.2 IMMUNIZING A SINGLE LIABILITY\n",
    "#### Immunization\n",
    "a fixed-income management process in which the portfolio is managed to\n",
    "minimize the variability of the rate of return earned over a specified time period\n",
    "1. Cash flow matching\n",
    "2. Macaulay duration\n",
    "    2.1 Price risk\n",
    "    2.2 Reinvestment risk"
   ]
  },
  {
   "cell_type": "markdown",
   "metadata": {},
   "source": [
    "#### Convexity\n",
    "![title](convexity.png)"
   ]
  },
  {
   "cell_type": "markdown",
   "metadata": {},
   "source": [
    "### 1.6.2.3 IMMUNIZING MULTIPLE LIABILITIES\n",
    "1. Cash flow matching is the safest approach\n",
    "2. Duration matching is a more flexible and generally practical approach"
   ]
  },
  {
   "cell_type": "markdown",
   "metadata": {},
   "source": [
    "### 1.6.2.4 MANAGING A DURATION GAP"
   ]
  },
  {
   "cell_type": "markdown",
   "metadata": {},
   "source": [
    "#### derivatives overlay"
   ]
  },
  {
   "cell_type": "markdown",
   "metadata": {},
   "source": [
    "#### BPV （price value of a basis point）\n",
    "BPV = MD × V × 0.0001 = price value of a basis point"
   ]
  },
  {
   "cell_type": "markdown",
   "metadata": {},
   "source": [
    "#### number of contracts required (Nf)\n",
    "![title](no_of_contracts.png)"
   ]
  },
  {
   "cell_type": "markdown",
   "metadata": {},
   "source": [
    "### 1.6.2.4 ADVANCED STRATEGIES\n",
    "overhedge or underhedge under various interest rate scenario\n",
    "1. believes that interest rates will decline ---> overhedged\n",
    "2. believes that interest rates will increase ---> underhedged\n",
    "3. The swap’s net duration is calculated as the difference between fixed- and floating-rate bonds that would replicate the swap’s future coupon flows."
   ]
  },
  {
   "cell_type": "markdown",
   "metadata": {},
   "source": [
    "#### Interest rate swaps\n",
    "Interest rate swaps are another way to adjust the duration gap\n",
    "1. A receive-fixed swap = buying more bond assets ---> increase portfolio duration; it has positive (+) duration. \n",
    "2. A pay-fixed swap ---> reduce duration; it has negative (−) duration."
   ]
  },
  {
   "cell_type": "markdown",
   "metadata": {},
   "source": [
    "#### Swaption - swap fixed rate (SFR)\n",
    "An alternative to the swap is a swaption\n",
    "pays an initial premium for the right to enter a swap（ right to initiate a receive-fixed swap at a prespecified swap\n",
    "fixed rate (SFR)"
   ]
  },
  {
   "cell_type": "markdown",
   "metadata": {},
   "source": [
    "##### swap fixed rate (SFR) - swaption strike rate Feature\n",
    "The cost is limited to the initial premium paid."
   ]
  },
  {
   "cell_type": "markdown",
   "metadata": {},
   "source": [
    "#### Swaption collar\n",
    "a combination of buying one swaption and selling another"
   ]
  },
  {
   "cell_type": "markdown",
   "metadata": {},
   "source": [
    "### 1.6.2.5 CHOOSING AN OPTIMAL STRATEGY\n",
    "depend on the manager’s view of interest rates"
   ]
  },
  {
   "cell_type": "markdown",
   "metadata": {},
   "source": [
    "### 1.6.2.6 Risks associated with managing a portfolio against a liability structure"
   ]
  },
  {
   "cell_type": "markdown",
   "metadata": {},
   "source": [
    "### 1.6.2.7 INDEX-BASED INVESTING"
   ]
  },
  {
   "cell_type": "markdown",
   "metadata": {},
   "source": [
    "#### A. Purpose --- minimize tracking error"
   ]
  },
  {
   "cell_type": "markdown",
   "metadata": {},
   "source": [
    "#### Tracking error \n",
    "1. Also called tracking risk or active risk\n",
    "2. standard deviation of the portfolio’s active return (portfolio return − benchmark return)."
   ]
  },
  {
   "cell_type": "markdown",
   "metadata": {},
   "source": [
    "#### Pure index & Enhanced indexing\n",
    "1. Pure index or full replication approach - requires holding all the securities and weighting them as in the index.\n",
    "2. Enhanced indexing - matches all the primary risk exposures of the index, but not all the holdings."
   ]
  },
  {
   "cell_type": "markdown",
   "metadata": {},
   "source": [
    "#### B. Feature --- more difficult than for equity indexing\n",
    "1. one issuer may have multiple bond issues outstanding\n",
    "2. OTC Counter transactions\n",
    "3. Most individual bond issues do not trade in any given year （valuation challenges/pricing difficulties）\n",
    "4. Bond index composition and characteristics can change fairly quickly (new bonds issued and old bonds approach maturity or change in credit quality and etc)"
   ]
  },
  {
   "cell_type": "markdown",
   "metadata": {},
   "source": [
    "#### C. Practical Way to minimize tracking error\n",
    "--> Matching the primary risk characteristics of the bond index > full replication\n",
    "1. Matching modified duration (MD) ---> minimize tracking error due to parallel shifts in the yield curve\n",
    "2. Matching key rate durations ---> minimize tracking error due to nonparallel changes in the yield curve\n",
    "3. Match weighting exposure to the various bond sector and quality ratings of the index\n",
    "4. Matching sector/coupon/maturity cell weights of the index."
   ]
  },
  {
   "cell_type": "markdown",
   "metadata": {},
   "source": [
    "### 1.6.2.8 ALTERNATIVE METHODS OF OBTAINING PASSIVE BOND MARKET EXPOSURE"
   ]
  },
  {
   "cell_type": "markdown",
   "metadata": {},
   "source": [
    "#### Stratified sampling\n",
    "1. Divide the index into groups by the most significant characteristics that need to be matched\n",
    "2. ---> Eg., environmental, social, and corporate governance (ESG) or socially responsible"
   ]
  },
  {
   "cell_type": "markdown",
   "metadata": {},
   "source": [
    "#### Other Passive Methods\n",
    "Bond index mutual funds ---> Suit for smaller investors.\n",
    "2. Open-ended fund ---> management fee and other fee\n",
    "3. Exchange-traded funds (ETFs)---> Traded continuously & arbitrage mechanism\n",
    "4. Synthetic strategies --> Total return swaps (TRS) / Exchange-traded derivatives"
   ]
  },
  {
   "cell_type": "markdown",
   "metadata": {},
   "source": [
    "### 1.6.2.9 BOND BENCHMARK SELECTION"
   ]
  },
  {
   "cell_type": "markdown",
   "metadata": {},
   "source": [
    "#### Smart beta\n",
    "identifying relatively simple, definable rules that can be followed to add value"
   ]
  },
  {
   "cell_type": "markdown",
   "metadata": {},
   "source": [
    "##### credit barbell\n",
    "custom index of desired sub-exposures"
   ]
  },
  {
   "cell_type": "markdown",
   "metadata": {},
   "source": [
    "### 1.6.2.10 BULLET, LADDER, BARBELL"
   ]
  },
  {
   "cell_type": "markdown",
   "metadata": {},
   "source": [
    "#### Laddered bond portfolio\n",
    "Roughly equal par amounts are purchased, and come due each year"
   ]
  },
  {
   "cell_type": "markdown",
   "metadata": {},
   "source": [
    "#### Bullet portfolio\n",
    "concentrating all the holdings in a single middle duration"
   ]
  },
  {
   "cell_type": "markdown",
   "metadata": {},
   "source": [
    "#### Barbell portfolio\n",
    "concentrating all the holdings in a shorter and longer duration"
   ]
  },
  {
   "cell_type": "markdown",
   "metadata": {},
   "source": [
    "## 1.6.3 YIELD CURVE STRATEGIES"
   ]
  },
  {
   "cell_type": "markdown",
   "metadata": {},
   "source": [
    "### 1.6.3.1 The three sources of change in the yield curve\n",
    "Level, Slope, Curvature:"
   ]
  },
  {
   "cell_type": "markdown",
   "metadata": {},
   "source": [
    "####  Recall\n",
    "![title](1.6.3.2.png)"
   ]
  },
  {
   "cell_type": "markdown",
   "metadata": {},
   "source": [
    "### 1.6.3.2 STRATEGIES FOR CHANGING YIELD CURVES\n",
    "1. Strategies for a Parallel Shift in the Curve\n",
    "2. Strategies for a Nonparallel Shift in the Curve"
   ]
  },
  {
   "cell_type": "markdown",
   "metadata": {},
   "source": [
    "#### 1.6.3.2.1 Strategies for a Parallel Shift in the Curve"
   ]
  },
  {
   "cell_type": "markdown",
   "metadata": {},
   "source": [
    "##### 1. Adjust Portfolio Duration\n",
    "1. If rates are expected to increase, decrease portfolio duration before this occurs to minimize the value lost.\n",
    "2. If rates are expected to decrease, increase portfolio duration before this occurs to maximize the value gained."
   ]
  },
  {
   "cell_type": "markdown",
   "metadata": {},
   "source": [
    "##### 2. Increase Portfolio Convexity\n",
    "Greater convexity will:\n",
    "1. Increase the value gained if rates decrease.\n",
    "2. Decrease the value lost if rates increase."
   ]
  },
  {
   "cell_type": "markdown",
   "metadata": {},
   "source": [
    "#### 1.6.3.2.2 Strategies for a Nonparallel Shift in the Curve"
   ]
  },
  {
   "cell_type": "markdown",
   "metadata": {},
   "source": [
    "##### selection of a bullet versus barbell portfolio \n",
    "Determine the appropriate duration for the portfolio\n",
    "1. Increase exposure to those points on the curve where rates are expected to show a relative decrease in level.\n",
    "2. Decrease exposure to those points on the curve where rates are expected to show a relative increase in level."
   ]
  },
  {
   "cell_type": "markdown",
   "metadata": {},
   "source": [
    "### 1.6.3.3 ADJUSTING CONVEXITY"
   ]
  },
  {
   "cell_type": "markdown",
   "metadata": {},
   "source": [
    "#### Barbell vs. Bullet Structure\n",
    "1. To increase convexity, the more distributed future cash flows of a barbell will have higher convexity, but lower yield.\n",
    "2. To decrease convexity, the more concentrated future cash flows of a bullet will have lower convexity, but higher yield."
   ]
  },
  {
   "cell_type": "markdown",
   "metadata": {},
   "source": [
    "#### Options on Bonds (much more dramatic impact on convexity)\n",
    "1. Buy call and/or put options to increase convexity\n",
    "2. Sell call and/or put options to decrease convexity"
   ]
  },
  {
   "cell_type": "markdown",
   "metadata": {},
   "source": [
    "##### Buy call/put\n",
    "1. Long call options on bonds (or on bond futures contracts) increase in value as the underlying increases. Thus they provide increased upside as bond prices increase and rates decline. More upside means more positive convexity.\n",
    "2. Long put options on bonds (or on bond futures contracts) increase in value as the underlying decreases. Thus they reduce the downside as bond prices decline and rates increase. Less downside means more positive convexity."
   ]
  },
  {
   "cell_type": "markdown",
   "metadata": {},
   "source": [
    "#### Bonds with Embedded Options\n",
    "1. Callable bonds can be decomposed as an option-free bond and a short call position on the underlying bond.\n",
    "2. Mortgage backed securities (MBSs) behave in a similar fashion to a callable bond.\n",
    "3. Putable bonds are the economic opposite of callable bonds."
   ]
  },
  {
   "cell_type": "markdown",
   "metadata": {},
   "source": [
    "##### Alter Convexity Using Bonds with Embedded Options\n",
    "1. Decrease holdings of callable bonds and MBSs and/or increase holdings of putable bonds to increase convexity (and decrease yield).\n",
    "2. Increase holdings of callable bonds and MBSs and/or decrease holdings of putable bonds to decrease convexity (and increase yield)."
   ]
  },
  {
   "cell_type": "markdown",
   "metadata": {},
   "source": [
    "### 1.6.3.4 CARRY TRADES"
   ]
  },
  {
   "cell_type": "markdown",
   "metadata": {},
   "source": [
    "In a stable upward sloping curve --> \n",
    "1. borrow at lower shorter-term rates to invest at higher longer-term rates\n",
    "2. borrow in a lower interest rate and invest in a higher interest rate currency\n",
    "3. A currency swap provides another way to achieve the results of a cross-border carry trade\n",
    "4. The use of swaps introduces even more flexibility to structure the trade"
   ]
  },
  {
   "cell_type": "markdown",
   "metadata": {},
   "source": [
    "### 1.6.3.5 DETERMINING AN OPTIMAL STRATEGY\n",
    "Formulate a portfolio positioning strategy given forward interest rates and an interest rate view."
   ]
  },
  {
   "cell_type": "markdown",
   "metadata": {},
   "source": [
    "#### 1. Assume Yield Curve Is Unchanged"
   ]
  },
  {
   "cell_type": "markdown",
   "metadata": {},
   "source": [
    "#### 2. Yield Curve Moves as Forecasted"
   ]
  },
  {
   "cell_type": "markdown",
   "metadata": {},
   "source": [
    "### 1.6.3.6 USING DERIVATIVES TO IMPLEMENT A YIELD CURVE \n",
    "#### In general, the optimal strategy to profit from nonparallel shifts will:\n",
    "1. Take long positions tied to points on the curve expected to show a relative decline in rates.\n",
    "2. Take short positions tied to points on the curve expected to show a relative increase in rates.\n",
    "3. Maintain the desired target total duration."
   ]
  },
  {
   "cell_type": "markdown",
   "metadata": {},
   "source": [
    "#### Changing Portfolio Duration With Futures:\n",
    "1. Buy fixed-income (bond) futures contracts to increase portfolio duration.\n",
    "2. Sell fixed-income (bond) futures contracts to decrease portfolio duration.\n",
    "##### The number of contracts to use is:\n",
    "###### Nf = desired change in PVBP / PVBP of the futures contract\n",
    "###### PVBP (price value of a basis point) = value × MD × 0.0001"
   ]
  },
  {
   "cell_type": "markdown",
   "metadata": {},
   "source": [
    "#### Changing Portfolio Duration With Swaps\n",
    "1. Enter a receive fixed (versus pay floating) swap to increase portfolio duration.\n",
    "2. Enter a pay fixed (versus receive floating) swap to decrease portfolio duration.\n",
    "##### The notional principal of the swap to use is:\n",
    "###### NP = desired change in PVBP / PVBP of the swap\n",
    "###### PVBP of the swap is the difference between the fixed- and floating-side PVBPs"
   ]
  },
  {
   "cell_type": "markdown",
   "metadata": {},
   "source": [
    "#### Changing Portfolio Convexity With Options\n",
    "1. Buying call options on bonds will increase portfolio upside if rates decline, thus increasing the portfolio’s convexity.\n",
    "2. Buying put options on bonds will decrease portfolio downside if rates increase, thus increasing the portfolio’s convexity.\n",
    "3. Selling call options on bonds will decrease portfolio upside if rates decline, thus decreasing the portfolio’s convexity.\n",
    "4. Selling put options on bonds will increase portfolio downside if rates increase, thus decreasing the portfolio’s convexity."
   ]
  },
  {
   "cell_type": "markdown",
   "metadata": {},
   "source": [
    "### 1.6.3.7 USING KEY RATE DURATIONS TO DETERMINE OPTIMAL STRATEGY"
   ]
  },
  {
   "cell_type": "markdown",
   "metadata": {},
   "source": [
    "#### Key rate durations (KRD) - partial durations\n"
   ]
  },
  {
   "cell_type": "markdown",
   "metadata": {},
   "source": [
    "#### DURATION-NEUTRAL CURVE TRADES\n",
    "##### Butterfly trades\n",
    "##### Condor trades"
   ]
  },
  {
   "cell_type": "markdown",
   "metadata": {},
   "source": [
    "### 1.6.3.8 INTER-MARKET CURVE STRATEGIES"
   ]
  },
  {
   "cell_type": "markdown",
   "metadata": {},
   "source": [
    "## 1.6.4 FIXED-INCOME ACTIVE MANAGEMENT: CREDIT STRATEGIES"
   ]
  },
  {
   "cell_type": "markdown",
   "metadata": {},
   "source": [
    "### 1.6.4.1 IG (Investment-grade) VS. HY(High-yield) AND MEASURING SPREAD\n",
    "#### Investment-grade (IG) bonds are defined as ratings above BB.\n",
    "#### High-yield (HY) bonds are all bonds rated below investment-grade.\n",
    "#### a similar approach to credit evaluation\n",
    "1. capacity to pay\n",
    "2. collateral\n",
    "3. covenants (restriction fro issuers)\n",
    "4. character(the quality and integrity of the issuer)\n",
    "5. capital behind the issuer"
   ]
  },
  {
   "cell_type": "markdown",
   "metadata": {},
   "source": [
    "### 1.6.4.2 Risk considerations in investment-grade and high-yield corporate bond portfolios."
   ]
  },
  {
   "cell_type": "markdown",
   "metadata": {},
   "source": [
    "#### Credit risk -loss caused by a counterparty’s or debtor’s failure to pay\n",
    "1. default risk (probability)\n",
    "2. loss severity (or loss given default)\n",
    "##### For example, if a group of bonds has an annual 2% probability of default and a 40% loss severity, the annual credit risk loss estimate would be 0.02 × 0.40 = 0.8%."
   ]
  },
  {
   "cell_type": "markdown",
   "metadata": {},
   "source": [
    "#### Spread risk - decline in price relative to credit risk free bonds due to spread widening\n",
    "Credit migration risk refers to the risk a bond can decline in credit quality and\n",
    "bond rating."
   ]
  },
  {
   "cell_type": "markdown",
   "metadata": {},
   "source": [
    "#### Liquidity risk - the ability to buy or sell quickly at near fair market value\n",
    "1. Bid-ask spread\n",
    "2. Regulatory and risk management issues"
   ]
  },
  {
   "cell_type": "markdown",
   "metadata": {},
   "source": [
    "### 1.6.4.3 CREDIT SPREAD MEASURES"
   ]
  },
  {
   "cell_type": "markdown",
   "metadata": {},
   "source": [
    "#### Benchmark spread\n",
    "The on-the-run government bond is typically used"
   ]
  },
  {
   "cell_type": "markdown",
   "metadata": {},
   "source": [
    "#### G-spread\n",
    "a straight line interpolation of YTM made between the two closest bracketing duration government bonds"
   ]
  },
  {
   "cell_type": "markdown",
   "metadata": {},
   "source": [
    "#### I-spread\n",
    "based on swap fixed rates as the benchmark yields"
   ]
  },
  {
   "cell_type": "markdown",
   "metadata": {},
   "source": [
    "#### Z-spread (zero-volatility spread) is a trial and error calculation"
   ]
  },
  {
   "cell_type": "markdown",
   "metadata": {},
   "source": [
    "#### Option adjusted spread（OAS)\n",
    "a more complex derivative of Z-spread and does reflect the\n",
    "impact of options on expected return"
   ]
  },
  {
   "cell_type": "markdown",
   "metadata": {},
   "source": [
    "### 1.6.4.4 Bottom-up and top-down approaches to credit strategies"
   ]
  },
  {
   "cell_type": "markdown",
   "metadata": {},
   "source": [
    "### Bottom-up\n",
    "focuses on sectors such as auto-related and mortgage-backed securities (MBS).\n",
    "#### Spread Curves"
   ]
  },
  {
   "cell_type": "markdown",
   "metadata": {},
   "source": [
    "#### TOP-DOWN\n",
    "focuses on macro factors (eg., strength of economic growth and corporate profits)"
   ]
  },
  {
   "cell_type": "markdown",
   "metadata": {},
   "source": [
    "### 1.6.4.5 ADJUSTING THE CREDIT PORTFOLIO’S INTEREST RATE RISK\n",
    "### 1.6.4.6 ESG Considerations\n",
    "environmental, social, and governance (ESG) portfolio constrains"
   ]
  },
  {
   "cell_type": "markdown",
   "metadata": {},
   "source": [
    "\n",
    "### 1.6.4.7 How liquidity risk can be managed in a credit portfolio\n",
    "1. Hold a larger percentage of the portfolio in cash.\n",
    "2. Hold a larger percentage of the portfolio in more liquid securities,\n",
    "3. Use liquid derivative instruments as an alternative to the underlying credit risky securities (eg., cd)\n",
    "4. Use IG or HY ETFs as a temporary investment to gain market exposure and diversification until the desired underlying securities are available"
   ]
  },
  {
   "cell_type": "markdown",
   "metadata": {},
   "source": [
    "### 1.6.4.8 How tail risk can be managed in a credit portfolio\n",
    "#### Tail risk\n",
    "refers to the fact that returns in many security markets experience more large declines than consistent with their standard deviation\n",
    "#### How to Manage:\n",
    "1. Scenario analysis\n",
    "2. Historical scenarios\n",
    "3. Hypothetical scenarios"
   ]
  },
  {
   "cell_type": "markdown",
   "metadata": {},
   "source": [
    "### 1.6.4.9 STRUCTURED INSTRUMENTS\n",
    "#### Mortgage-backed securities (MBSs)\n",
    "#### Asset-backed securities (ABSs)\n",
    "#### Collateralized debt obligations (CDOs)\n",
    "#### Covered bonds"
   ]
  },
  {
   "cell_type": "markdown",
   "metadata": {},
   "source": [
    "# 1.7 Equity Portfolio Management **\n",
    "Book3 "
   ]
  },
  {
   "cell_type": "markdown",
   "metadata": {},
   "source": [
    "## 1.7.1 OVERVIEW OF EQUITY PORTFOLIO MANAGEMENT"
   ]
  },
  {
   "cell_type": "markdown",
   "metadata": {},
   "source": []
  },
  {
   "cell_type": "markdown",
   "metadata": {},
   "source": [
    "### 1.6.1."
   ]
  },
  {
   "cell_type": "markdown",
   "metadata": {},
   "source": [
    "### 1.6.1."
   ]
  },
  {
   "cell_type": "markdown",
   "metadata": {},
   "source": [
    "### 1.6.1."
   ]
  },
  {
   "cell_type": "markdown",
   "metadata": {},
   "source": [
    "### 1.6.1."
   ]
  },
  {
   "cell_type": "markdown",
   "metadata": {},
   "source": [
    "### 1.6.1."
   ]
  },
  {
   "cell_type": "markdown",
   "metadata": {},
   "source": [
    "### 1.6.1."
   ]
  },
  {
   "cell_type": "markdown",
   "metadata": {},
   "source": [
    "### 1.6.1."
   ]
  },
  {
   "cell_type": "markdown",
   "metadata": {},
   "source": [
    "### 1.6.1."
   ]
  },
  {
   "cell_type": "markdown",
   "metadata": {},
   "source": [
    "### 1.6.1."
   ]
  },
  {
   "cell_type": "markdown",
   "metadata": {},
   "source": [
    "### 1.6.1."
   ]
  },
  {
   "cell_type": "markdown",
   "metadata": {},
   "source": [
    "### 1.6.1."
   ]
  },
  {
   "cell_type": "markdown",
   "metadata": {},
   "source": [
    "### 1.6.1."
   ]
  },
  {
   "cell_type": "markdown",
   "metadata": {},
   "source": [
    "### 1.6.1."
   ]
  },
  {
   "cell_type": "markdown",
   "metadata": {},
   "source": [
    "### 1.6.1."
   ]
  },
  {
   "cell_type": "markdown",
   "metadata": {},
   "source": [
    "### 1.6.1."
   ]
  },
  {
   "cell_type": "markdown",
   "metadata": {},
   "source": [
    "### 1.6.1."
   ]
  },
  {
   "cell_type": "markdown",
   "metadata": {},
   "source": [
    "### 1.6.1."
   ]
  },
  {
   "cell_type": "markdown",
   "metadata": {},
   "source": [
    "### 1.6.1."
   ]
  },
  {
   "cell_type": "markdown",
   "metadata": {},
   "source": [
    "### 1.6.1."
   ]
  },
  {
   "cell_type": "markdown",
   "metadata": {},
   "source": [
    "# 1.8 Alternative Investments for Portfolio Management"
   ]
  },
  {
   "cell_type": "markdown",
   "metadata": {},
   "source": [
    "# 1.9 Private Wealth Management **"
   ]
  },
  {
   "cell_type": "markdown",
   "metadata": {},
   "source": [
    "# 1.10 Portfolio Management for Institutional Investors"
   ]
  },
  {
   "cell_type": "markdown",
   "metadata": {},
   "source": [
    "# 1.11 Trading, Performance Evaluation, and Manager Selection"
   ]
  },
  {
   "cell_type": "markdown",
   "metadata": {},
   "source": [
    "# 1.12 Cases in Portfolio Management and Risk Management"
   ]
  },
  {
   "cell_type": "markdown",
   "metadata": {},
   "source": [
    "# 3 Testbanks*\n",
    "![title](img/python.png)\n",
    "* From Official Past Years Papers and Official Website"
   ]
  },
  {
   "cell_type": "markdown",
   "metadata": {},
   "source": [
    "# 4 Other Useful Resources and Courses"
   ]
  },
  {
   "cell_type": "markdown",
   "metadata": {},
   "source": [
    "# 5 Dictionary"
   ]
  },
  {
   "cell_type": "markdown",
   "metadata": {},
   "source": [
    "# 6 "
   ]
  },
  {
   "cell_type": "markdown",
   "metadata": {},
   "source": []
  }
 ],
 "metadata": {
  "kernelspec": {
   "display_name": "Python 3",
   "language": "python",
   "name": "python3"
  },
  "language_info": {
   "codemirror_mode": {
    "name": "ipython",
    "version": 3
   },
   "file_extension": ".py",
   "mimetype": "text/x-python",
   "name": "python",
   "nbconvert_exporter": "python",
   "pygments_lexer": "ipython3",
   "version": "3.8.3"
  },
  "toc": {
   "base_numbering": 1,
   "nav_menu": {},
   "number_sections": false,
   "sideBar": true,
   "skip_h1_title": false,
   "title_cell": "Table of Contents",
   "title_sidebar": "Contents",
   "toc_cell": true,
   "toc_position": {
    "height": "947px",
    "left": "21px",
    "top": "110px",
    "width": "511.998px"
   },
   "toc_section_display": true,
   "toc_window_display": true
  }
 },
 "nbformat": 4,
 "nbformat_minor": 4
}
