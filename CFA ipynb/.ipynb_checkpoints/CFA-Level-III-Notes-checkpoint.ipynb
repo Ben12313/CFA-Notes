{
 "cells": [
  {
   "cell_type": "markdown",
   "metadata": {
    "toc": true
   },
   "source": [
    "<h1>Table of Contents<span class=\"tocSkip\"></span></h1>\n",
    "<div class=\"toc\"><ul class=\"toc-item\"><li><span><a href=\"#CFA-Level-III-Note\" data-toc-modified-id=\"CFA-Level-III-Note-1\">CFA Level III Note</a></span><ul class=\"toc-item\"><li><span><a href=\"#Los-Command\" data-toc-modified-id=\"Los-Command-1.1\">Los Command</a></span></li><li><span><a href=\"#2020-level-III--studysessions-combined\" data-toc-modified-id=\"2020-level-III--studysessions-combined-1.2\">2020-level III -studysessions-combined</a></span></li></ul></li><li><span><a href=\"#0-Key-Topics-重点\" data-toc-modified-id=\"0-Key-Topics-重点-2\">0 Key Topics 重点</a></span><ul class=\"toc-item\"><li><span><a href=\"#0.1-Behavioral-Finance\" data-toc-modified-id=\"0.1-Behavioral-Finance-2.1\">0.1 Behavioral Finance</a></span></li><li><span><a href=\"#0.2-Individual-Investor\" data-toc-modified-id=\"0.2-Individual-Investor-2.2\">0.2 Individual Investor</a></span></li><li><span><a href=\"#0.3-Institutional-Investors\" data-toc-modified-id=\"0.3-Institutional-Investors-2.3\">0.3 Institutional Investors</a></span></li><li><span><a href=\"#0.4-Capital-Market-Expectation\" data-toc-modified-id=\"0.4-Capital-Market-Expectation-2.4\">0.4 Capital Market Expectation</a></span></li><li><span><a href=\"#0.5-Equity-Market-Valuation\" data-toc-modified-id=\"0.5-Equity-Market-Valuation-2.5\">0.5 Equity Market Valuation</a></span></li><li><span><a href=\"#0.6-Asset-Allocation\" data-toc-modified-id=\"0.6-Asset-Allocation-2.6\">0.6 Asset Allocation</a></span></li><li><span><a href=\"#0.7-Fixed-Income\" data-toc-modified-id=\"0.7-Fixed-Income-2.7\">0.7 Fixed-Income</a></span></li><li><span><a href=\"#0.8-Equity-Portfolio-Management\" data-toc-modified-id=\"0.8-Equity-Portfolio-Management-2.8\">0.8 Equity Portfolio Management</a></span></li><li><span><a href=\"#0.9-Alternative-Investment\" data-toc-modified-id=\"0.9-Alternative-Investment-2.9\">0.9 Alternative Investment</a></span></li><li><span><a href=\"#0.10-Risk-Management\" data-toc-modified-id=\"0.10-Risk-Management-2.10\">0.10 Risk Management</a></span></li><li><span><a href=\"#0.11-Execution,-Rebalance-and-Evaluation\" data-toc-modified-id=\"0.11-Execution,-Rebalance-and-Evaluation-2.11\">0.11 Execution, Rebalance and Evaluation</a></span></li></ul></li><li><span><a href=\"#1-All-Topics-Summary-2020\" data-toc-modified-id=\"1-All-Topics-Summary-2020-3\">1 All Topics Summary 2020</a></span><ul class=\"toc-item\"><li><span><a href=\"#1.1-Ethical-and-Professional-Standards-**\" data-toc-modified-id=\"1.1-Ethical-and-Professional-Standards-**-3.1\">1.1 Ethical and Professional Standards **</a></span><ul class=\"toc-item\"><li><span><a href=\"#Book-1\" data-toc-modified-id=\"Book-1-3.1.1\">Book 1</a></span></li></ul></li><li><span><a href=\"#1.2-Behavioral-Finance\" data-toc-modified-id=\"1.2-Behavioral-Finance-3.2\">1.2 Behavioral Finance</a></span><ul class=\"toc-item\"><li><span><a href=\"#Book-1\" data-toc-modified-id=\"Book-1-3.2.1\">Book 1</a></span></li></ul></li><li><span><a href=\"#1.3-Capital-Market-Expectations\" data-toc-modified-id=\"1.3-Capital-Market-Expectations-3.3\">1.3 Capital Market Expectations</a></span><ul class=\"toc-item\"><li><span><a href=\"#Book-2\" data-toc-modified-id=\"Book-2-3.3.1\">Book 2</a></span></li></ul></li><li><span><a href=\"#1.4-Asset-Allocation-and-Related-Decisions-in-Portfolio-Management\" data-toc-modified-id=\"1.4-Asset-Allocation-and-Related-Decisions-in-Portfolio-Management-3.4\">1.4 Asset Allocation and Related Decisions in Portfolio Management</a></span><ul class=\"toc-item\"><li><span><a href=\"#Book-2\" data-toc-modified-id=\"Book-2-3.4.1\">Book 2</a></span></li></ul></li><li><span><a href=\"#1.5-Derivatives-and-Currency-Management\" data-toc-modified-id=\"1.5-Derivatives-and-Currency-Management-3.5\">1.5 Derivatives and Currency Management</a></span><ul class=\"toc-item\"><li><span><a href=\"#Book-2\" data-toc-modified-id=\"Book-2-3.5.1\">Book 2</a></span></li></ul></li><li><span><a href=\"#1.6-Fixed-Income-Portfolio-Management-**\" data-toc-modified-id=\"1.6-Fixed-Income-Portfolio-Management-**-3.6\">1.6 Fixed-Income Portfolio Management **</a></span><ul class=\"toc-item\"><li><span><a href=\"#Book-3\" data-toc-modified-id=\"Book-3-3.6.1\">Book 3</a></span></li></ul></li><li><span><a href=\"#1.7-Equity-Portfolio-Management-**\" data-toc-modified-id=\"1.7-Equity-Portfolio-Management-**-3.7\">1.7 Equity Portfolio Management **</a></span><ul class=\"toc-item\"><li><span><a href=\"#Book-3\" data-toc-modified-id=\"Book-3-3.7.1\">Book 3</a></span></li></ul></li><li><span><a href=\"#1.8-Alternative-Investments-for-Portfolio-Management\" data-toc-modified-id=\"1.8-Alternative-Investments-for-Portfolio-Management-3.8\">1.8 Alternative Investments for Portfolio Management</a></span><ul class=\"toc-item\"><li><span><a href=\"#Book-4\" data-toc-modified-id=\"Book-4-3.8.1\">Book 4</a></span></li></ul></li><li><span><a href=\"#1.9-Private-Wealth-Management-**\" data-toc-modified-id=\"1.9-Private-Wealth-Management-**-3.9\">1.9 Private Wealth Management **</a></span><ul class=\"toc-item\"><li><span><a href=\"#Book-4\" data-toc-modified-id=\"Book-4-3.9.1\">Book 4</a></span></li></ul></li><li><span><a href=\"#1.10-Portfolio-Management-for-Institutional-Investors\" data-toc-modified-id=\"1.10-Portfolio-Management-for-Institutional-Investors-3.10\">1.10 Portfolio Management for Institutional Investors</a></span></li><li><span><a href=\"#1.11-Trading,-Performance-Evaluation,-and-Manager-Selection\" data-toc-modified-id=\"1.11-Trading,-Performance-Evaluation,-and-Manager-Selection-3.11\">1.11 Trading, Performance Evaluation, and Manager Selection</a></span></li><li><span><a href=\"#1.12-Cases-in-Portfolio-Management-and-Risk-Management\" data-toc-modified-id=\"1.12-Cases-in-Portfolio-Management-and-Risk-Management-3.12\">1.12 Cases in Portfolio Management and Risk Management</a></span></li></ul></li><li><span><a href=\"#1.1-Ethical-and-Professional-Standards-**\" data-toc-modified-id=\"1.1-Ethical-and-Professional-Standards-**-4\">1.1 Ethical and Professional Standards **</a></span><ul class=\"toc-item\"><li><span><a href=\"#To-be-added\" data-toc-modified-id=\"To-be-added-4.1\">To be added</a></span></li></ul></li><li><span><a href=\"#1.2-Behavioral-Finance\" data-toc-modified-id=\"1.2-Behavioral-Finance-5\">1.2 Behavioral Finance</a></span><ul class=\"toc-item\"><li><span><a href=\"#To-be-added\" data-toc-modified-id=\"To-be-added-5.1\">To be added</a></span><ul class=\"toc-item\"><li><span><a href=\"#To-be-added\" data-toc-modified-id=\"To-be-added-5.1.1\">To be added</a></span></li></ul></li></ul></li><li><span><a href=\"#1.3-Capital-Market-Expectations\" data-toc-modified-id=\"1.3-Capital-Market-Expectations-6\">1.3 Capital Market Expectations</a></span></li><li><span><a href=\"#1.4-Asset-Allocation-and-Related-Decisions-in-Portfolio-Management\" data-toc-modified-id=\"1.4-Asset-Allocation-and-Related-Decisions-in-Portfolio-Management-7\">1.4 Asset Allocation and Related Decisions in Portfolio Management</a></span></li><li><span><a href=\"#1.5-Derivatives-and-Currency-Management\" data-toc-modified-id=\"1.5-Derivatives-and-Currency-Management-8\">1.5 Derivatives and Currency Management</a></span></li><li><span><a href=\"#1.6-Fixed-Income-Portfolio-Management-**\" data-toc-modified-id=\"1.6-Fixed-Income-Portfolio-Management-**-9\">1.6 Fixed-Income Portfolio Management **</a></span></li><li><span><a href=\"#1.7-Equity-Portfolio-Management-**\" data-toc-modified-id=\"1.7-Equity-Portfolio-Management-**-10\">1.7 Equity Portfolio Management **</a></span></li><li><span><a href=\"#1.8-Alternative-Investments-for-Portfolio-Management\" data-toc-modified-id=\"1.8-Alternative-Investments-for-Portfolio-Management-11\">1.8 Alternative Investments for Portfolio Management</a></span></li><li><span><a href=\"#1.9-Private-Wealth-Management-**\" data-toc-modified-id=\"1.9-Private-Wealth-Management-**-12\">1.9 Private Wealth Management **</a></span></li><li><span><a href=\"#1.10-Portfolio-Management-for-Institutional-Investors\" data-toc-modified-id=\"1.10-Portfolio-Management-for-Institutional-Investors-13\">1.10 Portfolio Management for Institutional Investors</a></span></li><li><span><a href=\"#1.11-Trading,-Performance-Evaluation,-and-Manager-Selection\" data-toc-modified-id=\"1.11-Trading,-Performance-Evaluation,-and-Manager-Selection-14\">1.11 Trading, Performance Evaluation, and Manager Selection</a></span></li><li><span><a href=\"#1.12-Cases-in-Portfolio-Management-and-Risk-Management\" data-toc-modified-id=\"1.12-Cases-in-Portfolio-Management-and-Risk-Management-15\">1.12 Cases in Portfolio Management and Risk Management</a></span></li><li><span><a href=\"#3-Testbanks*\" data-toc-modified-id=\"3-Testbanks*-16\">3 Testbanks*</a></span></li><li><span><a href=\"#4-Other-Useful-Resources-and-Courses\" data-toc-modified-id=\"4-Other-Useful-Resources-and-Courses-17\">4 Other Useful Resources and Courses</a></span></li></ul></div>"
   ]
  },
  {
   "cell_type": "markdown",
   "metadata": {},
   "source": [
    "# CFA Level III Note\n",
    "Official Resources when preparing \n",
    "## Los Command\n",
    "https://www.cfainstitute.org/-/media/documents/support/programs/cfa-and-cipm-los-command-words.ashx\n",
    "## 2020-level III -studysessions-combined\n",
    "https://www.cfainstitute.org/-/media/documents/study-session/2020-l3-studysessions-combined.ashx?la=en&hash=433E641C1251A7953A01654064618268C6A85AD4\n",
    "\n",
    "针对Essay的考题特点,Schweser建议最好的强化方法不是花大量时间练习写作,而是熟悉IPS(InvestmentPolicyStatement)写作的固定模式,细化到每个最常用的关键字\n",
    "\n",
    "CFA三级侧重综合和应用；CFA三级考试侧重投资组合管理，投资绩效分析和理财管理，要求考生熟知资产定价和投资绩效分析，能够独立撰写投资报告，考试形式是按照例文要求分析投资绩效，独立撰写投资分析报告。"
   ]
  },
  {
   "cell_type": "markdown",
   "metadata": {},
   "source": [
    "# 0 Key Topics 重点\n",
    "## 0.1 Behavioral Finance\n",
    "这一般是大家拿来入门的章节，可是上来就那么多名词，那么多原理真的完全看晕了。其实这一章节最大的重点就是各个bias，其他的东西都是帮助理解的，考试不会考。我自己列了一个清单，把所有bias根据分类总结了一遍，再把做题时候看到的案例附在旁边，考试之前琢磨透就没问题了。虽然这个章节基本没有什么计算，但理论题也没那么可怕。而且我觉得Behavioral Finance很有意思，心理学和金融学相结合，读起来也可以引人入胜的。\n",
    "## 0.2 Individual Investor\n",
    "个人投资的学习顺序要调整一下。要从Tax那部分开始看，看完之后再回过头看第一部分，因为第一部分是总结性质的。总体来说这个章节不难，但要注意的是，现在的Individual Investor考试比起过去，更注重了后面几个部分的考察，让你算return还有各种constrain的题占比越来越小，所以一定要重视后面的内容，Estate Planning和Concentrated Single Asset Positions等是非常非常重要的。\n",
    "## 0.3 Institutional Investors\n",
    "属于最简单的一个Topic，基本没什么技术含量，搞清各种机构投资者的RRTTLLU就没问题了。考题80%是pension，但最近几年也对后面的Insurance和foundation加强了重要性，只要多做点儿例题找准规律，这部分一定保证70%以上。\n",
    "## 0.4 Capital Market Expectation\n",
    "这部分重点我认为有两个。一个是要和Behavioral Finance相结合的Psychological Traps，真的是反复考，一定弄懂。还有就是CME的几个工具，包括几个model，特别是Financial Equilibrium Approach，要看懂书上的例题。这部分也没有什么技术含量，记忆为主，理解为辅。\n",
    "## 0.5 Equity Market Valuation\n",
    "Fed Model、the Yardeni Model、10 year moving average price/earnings还有tobin’s q、Equity’s q的比较搞清楚就OK了，谁放分子谁放分母别记混了，各种方法的优缺点记清楚，上午题应该会考。\n",
    "## 0.6 Asset Allocation\n",
    "重点是Asset Allocation的6种方法，各种方法的利弊，尤其是black-litterman和Resampled Efficient Frontier，Monte Carlo就更不用说了，整个教材它神出鬼没，关于Monte Carlo的所有知识建议看完教材做个总结。对了，这次考试考了一个Risk Adjusted Expected Return，就是带risk aversion的那个公式。我没记住公式里到底是0.005还是0.05，果断写错了。细节还是得够细才行。\n",
    "## 0.7 Fixed-Income\n",
    "两个部分，都算挺复杂的。这部分我逐字逐句慢慢读的，最后整理出来一个大框架，如果你也按照这个方法去做，相信搞明白这里面的头绪就快多了。论坛上也有很多大神上传了自己组织的结构图（原版教材上也有一个大概的图），用他们的也可以。我是结合了很多人的只是框架自己梳理了一个，效果还不错。这个topic没有重点，全都很重要，Duration Match是贯穿始终的关键词。千万别小看 最后那个Credit Relative-Value Analysis，考试很容易考。\n",
    "## 0.8 Equity Portfolio Management\n",
    "Equity里面知识点挺多的，所有的index weighting method不光要懂原理也要会计算，indexed Portfolio的分类和构成方法，三种Equity Styles的各自特点，还有Investment Strategies，弄清楚portable alpha，最后Optimal Allocation to Managers里面涉及到的所有公式，都着重看一下，课后练习题都有涉及，多做几遍就OK 了。这次考试最让我吃惊的是竟然考了一道Business Ethics的题，让你区分Friedman、Kantian和Utilitarian，这部分我基本没看，考试就傻眼了。看似不重要的东西，建议不要放过。\n",
    "## 0.9 Alternative Investment\n",
    "六大类其他投资类型，Commodity的roll return经常考，对冲基金的分类和投资原理一定要搞清楚，FOF的好处貌似今年考了，Sharpe Ratio容易被操纵的解决方式也要搞清楚。这部分知识点也很零碎，但大多都是记忆类型的，如果你有这方面的工作经验，那应该就更轻松了。\n",
    "## 0.10 Risk Management\n",
    "个人认为是最复杂的一个部分。我是最不喜欢汇率和衍生品的，RM里面却涉及了特别多。Currency Risk Management里面也有个roll return，到现在我也看得云里雾里，Reduce Hedging Cost我记得今年上午题考了，不难。Forward和Futures里面有六类题型，课后练习题里面的六道例题完全涵盖，比较好掌握。Options不要只去记图形和公式，要理解清楚为什么，breakeven的公式经常考，Delta Hedge是重点。Swaps的秘诀也是例题和课后题，Leveraged-Floating note和Inverse floating note理解起来不难但是一做题就不会，要注意。最后记得把所有调整类的公式整理一下，比如Modify Duration和Modify Beta，统一记忆就不会太复杂了。\n",
    "## 0.11 Execution, Rebalance and Evaluation\n",
    "这三个Topic我一起来复习的，都是记忆比较多，重点包括VWAP和shortfall，执行不同交易种类的平台，还有Dynamic Rebalancing的那个图像和公式。可以说这部分你如果把历年考题都做完的话应该没问题了，因为它怎么出题都离不开这几个考点，多做题就能完全掌握，我觉得这部分也是技术含量不高的。\n",
    "GIPS & Ethics\n",
    "考GIPS真的就是考你背诵的能力，完全没有必要，或许这也是没考的原因？GIPS记忆的方式我是用时间轴来的，在时间轴上的各个时间点标记一下GIPS的要求，再死记硬背就容易多了。Ethics虽然和一级二级的内容一样，但是出题的方式变难了很多，这个部分我相信一二级考完之后应该没什么问题。"
   ]
  },
  {
   "cell_type": "markdown",
   "metadata": {},
   "source": [
    "# 1 All Topics Summary 2020\n",
    "## 1.1 Ethical and Professional Standards **\n",
    "### Book 1\n",
    "## 1.2 Behavioral Finance\n",
    "### Book 1\n",
    "## 1.3 Capital Market Expectations\n",
    "### Book 2\n",
    "## 1.4 Asset Allocation and Related Decisions in Portfolio Management\n",
    "### Book 2\n",
    "## 1.5 Derivatives and Currency Management\n",
    "### Book 2\n",
    "## 1.6 Fixed-Income Portfolio Management **\n",
    "### Book 3\n",
    "## 1.7 Equity Portfolio Management **\n",
    "### Book 3\n",
    "## 1.8 Alternative Investments for Portfolio Management\n",
    "### Book 4\n",
    "## 1.9 Private Wealth Management **\n",
    "### Book 4\n",
    "## 1.10 Portfolio Management for Institutional Investors\n",
    "## 1.11 Trading, Performance Evaluation, and Manager Selection\n",
    "## 1.12 Cases in Portfolio Management and Risk Management"
   ]
  },
  {
   "cell_type": "markdown",
   "metadata": {},
   "source": [
    "# 1.1 Ethical and Professional Standards **"
   ]
  },
  {
   "cell_type": "markdown",
   "metadata": {},
   "source": [
    "## To be added"
   ]
  },
  {
   "cell_type": "markdown",
   "metadata": {},
   "source": [
    "# 1.2 Behavioral Finance"
   ]
  },
  {
   "cell_type": "markdown",
   "metadata": {},
   "source": [
    "## To be added"
   ]
  },
  {
   "cell_type": "markdown",
   "metadata": {},
   "source": [
    "### To be added"
   ]
  },
  {
   "cell_type": "markdown",
   "metadata": {},
   "source": [
    "# 1.3 Capital Market Expectations"
   ]
  },
  {
   "cell_type": "markdown",
   "metadata": {},
   "source": [
    "# 1.4 Asset Allocation and Related Decisions in Portfolio Management"
   ]
  },
  {
   "cell_type": "markdown",
   "metadata": {},
   "source": [
    "# 1.5 Derivatives and Currency Management"
   ]
  },
  {
   "cell_type": "markdown",
   "metadata": {},
   "source": [
    "# 1.6 Fixed-Income Portfolio Management **"
   ]
  },
  {
   "cell_type": "markdown",
   "metadata": {},
   "source": [
    "# 1.7 Equity Portfolio Management **"
   ]
  },
  {
   "cell_type": "markdown",
   "metadata": {},
   "source": [
    "# 1.8 Alternative Investments for Portfolio Management"
   ]
  },
  {
   "cell_type": "markdown",
   "metadata": {},
   "source": [
    "# 1.9 Private Wealth Management **"
   ]
  },
  {
   "cell_type": "markdown",
   "metadata": {},
   "source": [
    "# 1.10 Portfolio Management for Institutional Investors"
   ]
  },
  {
   "cell_type": "markdown",
   "metadata": {},
   "source": [
    "# 1.11 Trading, Performance Evaluation, and Manager Selection"
   ]
  },
  {
   "cell_type": "markdown",
   "metadata": {},
   "source": [
    "# 1.12 Cases in Portfolio Management and Risk Management"
   ]
  },
  {
   "cell_type": "markdown",
   "metadata": {},
   "source": [
    "# 3 Testbanks*\n",
    "![title](img/python.png)\n",
    "* From Official Past Years Papers and Official Website"
   ]
  },
  {
   "cell_type": "markdown",
   "metadata": {},
   "source": [
    "# 4 Other Useful Resources and Courses"
   ]
  },
  {
   "cell_type": "code",
   "execution_count": null,
   "metadata": {},
   "outputs": [],
   "source": []
  }
 ],
 "metadata": {
  "kernelspec": {
   "display_name": "Python 3",
   "language": "python",
   "name": "python3"
  },
  "language_info": {
   "codemirror_mode": {
    "name": "ipython",
    "version": 3
   },
   "file_extension": ".py",
   "mimetype": "text/x-python",
   "name": "python",
   "nbconvert_exporter": "python",
   "pygments_lexer": "ipython3",
   "version": "3.8.3"
  },
  "toc": {
   "base_numbering": 1,
   "nav_menu": {},
   "number_sections": false,
   "sideBar": true,
   "skip_h1_title": false,
   "title_cell": "Table of Contents",
   "title_sidebar": "Contents",
   "toc_cell": true,
   "toc_position": {
    "height": "947px",
    "left": "21px",
    "top": "110px",
    "width": "512px"
   },
   "toc_section_display": true,
   "toc_window_display": true
  }
 },
 "nbformat": 4,
 "nbformat_minor": 4
}
