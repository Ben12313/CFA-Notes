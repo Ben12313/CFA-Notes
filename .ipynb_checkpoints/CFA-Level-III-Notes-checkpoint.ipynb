{
 "cells": [
  {
   "cell_type": "markdown",
   "metadata": {
    "toc": true
   },
   "source": [
    "<h1>Table of Contents<span class=\"tocSkip\"></span></h1>\n",
    "<div class=\"toc\"><ul class=\"toc-item\"><li><span><a href=\"#CFA-Level-III-Note\" data-toc-modified-id=\"CFA-Level-III-Note-1\">CFA Level III Note</a></span></li><li><span><a href=\"#1-内容1\" data-toc-modified-id=\"1-内容1-2\">1 内容1</a></span><ul class=\"toc-item\"><li><span><a href=\"#1.1-内容1.1\" data-toc-modified-id=\"1.1-内容1.1-2.1\">1.1 内容1.1</a></span></li><li><span><a href=\"#1.2-内容1.2\" data-toc-modified-id=\"1.2-内容1.2-2.2\">1.2 内容1.2</a></span></li><li><span><a href=\"#1.3-内容1.3\" data-toc-modified-id=\"1.3-内容1.3-2.3\">1.3 内容1.3</a></span></li></ul></li><li><span><a href=\"#2-内容2\" data-toc-modified-id=\"2-内容2-3\">2 内容2</a></span><ul class=\"toc-item\"><li><span><a href=\"#2.1-内容2.1\" data-toc-modified-id=\"2.1-内容2.1-3.1\">2.1 内容2.1</a></span></li><li><span><a href=\"#2.2-内容2.2\" data-toc-modified-id=\"2.2-内容2.2-3.2\">2.2 内容2.2</a></span></li></ul></li><li><span><a href=\"#3\" data-toc-modified-id=\"3-4\">3</a></span><ul class=\"toc-item\"><li><span><a href=\"#3.1\" data-toc-modified-id=\"3.1-4.1\">3.1</a></span></li></ul></li><li><span><a href=\"#4\" data-toc-modified-id=\"4-5\">4</a></span></li><li><span><a href=\"#5\" data-toc-modified-id=\"5-6\">5</a></span></li><li><span><a href=\"#6\" data-toc-modified-id=\"6-7\">6</a></span></li><li><span><a href=\"#7\" data-toc-modified-id=\"7-8\">7</a></span></li><li><span><a href=\"#8\" data-toc-modified-id=\"8-9\">8</a></span></li><li><span><a href=\"#9\" data-toc-modified-id=\"9-10\">9</a></span></li><li><span><a href=\"#10\" data-toc-modified-id=\"10-11\">10</a></span></li></ul></div>"
   ]
  },
  {
   "cell_type": "markdown",
   "metadata": {},
   "source": [
    "# CFA Level III Note"
   ]
  },
  {
   "cell_type": "markdown",
   "metadata": {},
   "source": [
    "# 1 内容1"
   ]
  },
  {
   "cell_type": "markdown",
   "metadata": {},
   "source": [
    "## 1.1 内容1.1"
   ]
  },
  {
   "cell_type": "markdown",
   "metadata": {},
   "source": [
    "## 1.2 内容1.2"
   ]
  },
  {
   "cell_type": "markdown",
   "metadata": {},
   "source": [
    "## 1.3 内容1.3"
   ]
  },
  {
   "cell_type": "markdown",
   "metadata": {},
   "source": [
    "# 2 内容2"
   ]
  },
  {
   "cell_type": "markdown",
   "metadata": {},
   "source": [
    "## 2.1 内容2.1"
   ]
  },
  {
   "cell_type": "markdown",
   "metadata": {},
   "source": [
    "## 2.2 内容2.2"
   ]
  },
  {
   "cell_type": "markdown",
   "metadata": {},
   "source": [
    "# 3"
   ]
  },
  {
   "cell_type": "markdown",
   "metadata": {},
   "source": [
    "## 3.1"
   ]
  },
  {
   "cell_type": "markdown",
   "metadata": {},
   "source": [
    "# 4"
   ]
  },
  {
   "cell_type": "markdown",
   "metadata": {},
   "source": [
    "# 5"
   ]
  },
  {
   "cell_type": "markdown",
   "metadata": {},
   "source": [
    "# 6"
   ]
  },
  {
   "cell_type": "markdown",
   "metadata": {},
   "source": [
    "# 7"
   ]
  },
  {
   "cell_type": "markdown",
   "metadata": {},
   "source": [
    "# 8"
   ]
  },
  {
   "cell_type": "markdown",
   "metadata": {},
   "source": [
    "# 9"
   ]
  },
  {
   "cell_type": "markdown",
   "metadata": {},
   "source": [
    "# 10"
   ]
  },
  {
   "cell_type": "code",
   "execution_count": null,
   "metadata": {},
   "outputs": [],
   "source": []
  }
 ],
 "metadata": {
  "kernelspec": {
   "display_name": "Python 3",
   "language": "python",
   "name": "python3"
  },
  "language_info": {
   "codemirror_mode": {
    "name": "ipython",
    "version": 3
   },
   "file_extension": ".py",
   "mimetype": "text/x-python",
   "name": "python",
   "nbconvert_exporter": "python",
   "pygments_lexer": "ipython3",
   "version": "3.8.3"
  },
  "toc": {
   "base_numbering": 1,
   "nav_menu": {},
   "number_sections": false,
   "sideBar": false,
   "skip_h1_title": false,
   "title_cell": "Table of Contents",
   "title_sidebar": "Contents",
   "toc_cell": true,
   "toc_position": {
    "height": "947px",
    "left": "22px",
    "top": "110px",
    "width": "512px"
   },
   "toc_section_display": true,
   "toc_window_display": true
  }
 },
 "nbformat": 4,
 "nbformat_minor": 4
}
